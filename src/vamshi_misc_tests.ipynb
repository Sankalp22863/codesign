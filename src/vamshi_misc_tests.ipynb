{
 "cells": [
  {
   "cell_type": "code",
   "execution_count": 1,
   "metadata": {},
   "outputs": [
    {
     "name": "stderr",
     "output_type": "stream",
     "text": [
      "Duplicate key in file PosixPath('/Users/vbalanaga/.matplotlib/stylelib/presentation.mplstyle'), line 12 ('lines.linewidth : 3,')\n",
      "Duplicate key in file PosixPath('/Users/vbalanaga/.matplotlib/stylelib/presentation.mplstyle'), line 13 ('lines.markersize : 6,')\n",
      "Bad value in file PosixPath('/Users/vbalanaga/.matplotlib/stylelib/presentation.mplstyle'), line 12 ('lines.linewidth : 3,'): Key lines.linewidth: Could not convert '3,' to float\n",
      "Bad value in file PosixPath('/Users/vbalanaga/.matplotlib/stylelib/presentation.mplstyle'), line 13 ('lines.markersize : 6,'): Key lines.markersize: Could not convert '6,' to float\n",
      "Bad value in file PosixPath('/Users/vbalanaga/.matplotlib/stylelib/presentation.mplstyle'), line 3 ('figure.figsize: (5,4),'): Key figure.figsize: Could not convert '(5' to float\n",
      "Bad value in file PosixPath('/Users/vbalanaga/.matplotlib/stylelib/presentation.mplstyle'), line 4 ('figure.dpi: 192,'): Key figure.dpi: Could not convert '192,' to float\n",
      "Bad value in file PosixPath('/Users/vbalanaga/.matplotlib/stylelib/presentation.mplstyle'), line 5 ('axes.linewidth : 1.1,'): Key axes.linewidth: Could not convert '1.1,' to float\n",
      "Bad value in file PosixPath('/Users/vbalanaga/.matplotlib/stylelib/presentation.mplstyle'), line 6 ('legend.frameon: False,'): Key legend.frameon: Cannot convert 'false,' to bool\n",
      "Bad value in file PosixPath('/Users/vbalanaga/.matplotlib/stylelib/presentation.mplstyle'), line 7 ('legend.fontsize: 12,'): Key legend.fontsize: 12, is not a valid font size. Valid font sizes are xx-small, x-small, small, medium, large, x-large, xx-large, smaller, larger.\n",
      "Bad value in file PosixPath('/Users/vbalanaga/.matplotlib/stylelib/presentation.mplstyle'), line 8 ('xtick.major.width : 1.1,'): Key xtick.major.width: Could not convert '1.1,' to float\n",
      "Bad value in file PosixPath('/Users/vbalanaga/.matplotlib/stylelib/presentation.mplstyle'), line 9 ('ytick.major.width : 1.1,'): Key ytick.major.width: Could not convert '1.1,' to float\n",
      "Bad value in file PosixPath('/Users/vbalanaga/.matplotlib/stylelib/presentation.mplstyle'), line 10 ('axes.titlesize : 20,'): Key axes.titlesize: 20, is not a valid font size. Valid font sizes are xx-small, x-small, small, medium, large, x-large, xx-large, smaller, larger.\n",
      "Bad value in file PosixPath('/Users/vbalanaga/.matplotlib/stylelib/presentation.mplstyle'), line 11 ('axes.labelsize : 16,'): Key axes.labelsize: 16, is not a valid font size. Valid font sizes are xx-small, x-small, small, medium, large, x-large, xx-large, smaller, larger.\n",
      "Bad value in file PosixPath('/Users/vbalanaga/.matplotlib/stylelib/presentation.mplstyle'), line 14 ('xtick.labelsize : 16,'): Key xtick.labelsize: 16, is not a valid font size. Valid font sizes are xx-small, x-small, small, medium, large, x-large, xx-large, smaller, larger.\n"
     ]
    }
   ],
   "source": [
    "import os\n",
    "import sys\n",
    "import ast\n",
    "from staticfg.builder import CFGBuilder\n",
    "import astpretty\n",
    "import yaml\n",
    "\n",
    "import matplotlib as mpl\n",
    "import  matplotlib.pyplot as plt\n",
    "import scienceplots\n",
    "import numpy as np\n",
    "import networkx as nx\n",
    "\n",
    "from hardwareModel import HardwareModel\n",
    "import hardwareModel\n",
    "\n",
    "plt.style.use(['science', 'nature']) #, 'presentation'])\n",
    "\n"
   ]
  },
  {
   "cell_type": "code",
   "execution_count": 2,
   "metadata": {},
   "outputs": [],
   "source": [
    "filepath = \"benchmarks/models/matmult_from_file.py\"\n",
    "src_file =  open(filepath, 'r')\n",
    "src = src_file.read() \n",
    "tree = ast.parse(src, mode='exec')\n",
    "cfg = CFGBuilder().build_from_src('main.c', src)"
   ]
  },
  {
   "cell_type": "code",
   "execution_count": 3,
   "metadata": {},
   "outputs": [],
   "source": [
    "cfg.build_visual('test_cfg', format='png')"
   ]
  },
  {
   "cell_type": "code",
   "execution_count": null,
   "metadata": {},
   "outputs": [],
   "source": [
    "astpretty.pprint(tree, show_offsets=False, indent='  ',)"
   ]
  },
  {
   "cell_type": "markdown",
   "metadata": {},
   "source": [
    "## test AST node transformer"
   ]
  },
  {
   "cell_type": "code",
   "execution_count": 7,
   "metadata": {},
   "outputs": [
    {
     "name": "stdout",
     "output_type": "stream",
     "text": [
      "Module(\n",
      "  body=[\n",
      "    FunctionDef(\n",
      "      name='tmp',\n",
      "      args=arguments(\n",
      "        posonlyargs=[],\n",
      "        args=[arg(arg='x', annotation=None, type_comment=None)],\n",
      "        vararg=None,\n",
      "        kwonlyargs=[],\n",
      "        kw_defaults=[],\n",
      "        kwarg=None,\n",
      "        defaults=[],\n",
      "      ),\n",
      "      body=[\n",
      "        Assign(\n",
      "          targets=[Name(id='x', ctx=Store())],\n",
      "          value=Constant(value=3, kind=None),\n",
      "          type_comment=None,\n",
      "        ),\n",
      "        Return(\n",
      "          value=Name(id='x', ctx=Load()),\n",
      "        ),\n",
      "      ],\n",
      "      decorator_list=[],\n",
      "      returns=None,\n",
      "      type_comment=None,\n",
      "    ),\n",
      "    FunctionDef(\n",
      "      name='nested_func',\n",
      "      args=arguments(\n",
      "        posonlyargs=[],\n",
      "        args=[\n",
      "          arg(arg='interesting_func', annotation=None, type_comment=None),\n",
      "          arg(arg='y', annotation=None, type_comment=None),\n",
      "        ],\n",
      "        vararg=None,\n",
      "        kwonlyargs=[],\n",
      "        kw_defaults=[],\n",
      "        kwarg=None,\n",
      "        defaults=[],\n",
      "      ),\n",
      "      body=[\n",
      "        Assign(\n",
      "          targets=[Name(id='z', ctx=Store())],\n",
      "          value=Call(\n",
      "            func=Name(id='intereseting_func', ctx=Load()),\n",
      "            args=[Name(id='y', ctx=Load())],\n",
      "            keywords=[],\n",
      "          ),\n",
      "          type_comment=None,\n",
      "        ),\n",
      "        Return(\n",
      "          value=Name(id='z', ctx=Load()),\n",
      "        ),\n",
      "      ],\n",
      "      decorator_list=[],\n",
      "      returns=None,\n",
      "      type_comment=None,\n",
      "    ),\n",
      "    FunctionDef(\n",
      "      name='read_weights_from_file',\n",
      "      args=arguments(\n",
      "        posonlyargs=[],\n",
      "        args=[arg(arg='a', annotation=None, type_comment=None)],\n",
      "        vararg=None,\n",
      "        kwonlyargs=[],\n",
      "        kw_defaults=[],\n",
      "        kwarg=None,\n",
      "        defaults=[],\n",
      "      ),\n",
      "      body=[\n",
      "        Assign(\n",
      "          targets=[Name(id='v', ctx=Store())],\n",
      "          value=Constant(value=0, kind=None),\n",
      "          type_comment=None,\n",
      "        ),\n",
      "        Return(\n",
      "          value=BinOp(\n",
      "            left=Name(id='a', ctx=Load()),\n",
      "            op=Mult(),\n",
      "            right=Constant(value=276345, kind=None),\n",
      "          ),\n",
      "        ),\n",
      "      ],\n",
      "      decorator_list=[],\n",
      "      returns=None,\n",
      "      type_comment=None,\n",
      "    ),\n",
      "    Assign(\n",
      "      targets=[Name(id='a', ctx=Store())],\n",
      "      value=Constant(value=20, kind=None),\n",
      "      type_comment=None,\n",
      "    ),\n",
      "    Assign(\n",
      "      targets=[\n",
      "        Tuple(\n",
      "          elts=[\n",
      "            Name(id='w', ctx=Store()),\n",
      "            Name(id='v', ctx=Store()),\n",
      "          ],\n",
      "          ctx=Store(),\n",
      "        ),\n",
      "      ],\n",
      "      value=Call(\n",
      "        func=Name(id='read_weights_from_file', ctx=Load()),\n",
      "        args=[],\n",
      "        keywords=[],\n",
      "      ),\n",
      "      type_comment=None,\n",
      "    ),\n",
      "  ],\n",
      "  type_ignores=[],\n",
      ")\n"
     ]
    }
   ],
   "source": [
    "code = \"\\\n",
    "def tmp(x):\\n \\\n",
    "    x = 3\\n \\\n",
    "    return x\\n \\\n",
    "\\n\\\n",
    "def nested_func(interesting_func, y):\\n \\\n",
    "    z = intereseting_func(y)\\n \\\n",
    "    return z\\n \\\n",
    "\\n\\\n",
    "def read_weights_from_file(a):\\n \\\n",
    "    v = 0\\n \\\n",
    "    return a * 276345\\n \\\n",
    "\\n\\\n",
    "a = 20\\n\\\n",
    "\\n\\\n",
    "w, v = read_weights_from_file()\\n \\\n",
    "\"\n",
    "# \n",
    "\n",
    "tree = ast.parse(code)\n",
    "\n",
    "astpretty.pprint(tree, show_offsets=False, indent='  ',)"
   ]
  },
  {
   "cell_type": "code",
   "execution_count": 13,
   "metadata": {},
   "outputs": [],
   "source": [
    "class testTransformer(ast.NodeTransformer):\n",
    "    def visit_Assign(self, node):\n",
    "        if type(node.value) == ast.Call and node.value.func == ast.Name:\n",
    "              print(node.value.func.id)\n",
    "              if (\"file\" in node.value.func.id and \"read\" in node.value.func.id):\n",
    "                    print(\"Found file read\")\n",
    "                    # change the node.targets[0] name to include _NVM.\n",
    "                    if type(node.targets[0]) == ast.Name:\n",
    "                        node.targets[0].id = node.targets[0].id + \"_NVM\"\n",
    "                    elif type(node.targets[0]) == ast.Tuple:\n",
    "                        for target in node.targets[0].elts:\n",
    "                            target.id = target.id + \"_NVM\"\n",
    "            #   print(node.value.args[0].id)\n",
    "        astpretty.pprint(node, show_offsets=False, indent='  ',)\n",
    "        return node\n",
    "        \n"
   ]
  },
  {
   "cell_type": "code",
   "execution_count": 8,
   "metadata": {},
   "outputs": [
    {
     "name": "stdout",
     "output_type": "stream",
     "text": [
      "a is empty\n"
     ]
    }
   ],
   "source": [
    "a = []\n",
    "if a:\n",
    "    print(\"a is not empty\")\n",
    "else:\n",
    "    print(\"a is empty\")"
   ]
  },
  {
   "cell_type": "code",
   "execution_count": 14,
   "metadata": {},
   "outputs": [
    {
     "name": "stdout",
     "output_type": "stream",
     "text": [
      "Assign(\n",
      "  targets=[Name(id='x', ctx=Store())],\n",
      "  value=Constant(value=3, kind=None),\n",
      "  type_comment=None,\n",
      ")\n",
      "intereseting_func\n",
      "Assign(\n",
      "  targets=[Name(id='z', ctx=Store())],\n",
      "  value=Call(\n",
      "    func=Name(id='intereseting_func', ctx=Load()),\n",
      "    args=[Name(id='y', ctx=Load())],\n",
      "    keywords=[],\n",
      "  ),\n",
      "  type_comment=None,\n",
      ")\n",
      "Assign(\n",
      "  targets=[Name(id='v', ctx=Store())],\n",
      "  value=Constant(value=0, kind=None),\n",
      "  type_comment=None,\n",
      ")\n",
      "read_weights_from_file\n",
      "Found file read\n",
      "Assign(\n",
      "  targets=[\n",
      "    Tuple(\n",
      "      elts=[\n",
      "        Name(id='w_NVM', ctx=Store()),\n",
      "        Name(id='v_NVM', ctx=Store()),\n",
      "      ],\n",
      "      ctx=Store(),\n",
      "    ),\n",
      "  ],\n",
      "  value=Call(\n",
      "    func=Name(id='read_weights_from_file', ctx=Load()),\n",
      "    args=[],\n",
      "    keywords=[],\n",
      "  ),\n",
      "  type_comment=None,\n",
      ")\n"
     ]
    },
    {
     "data": {
      "text/plain": [
       "<ast.Module at 0x104629c60>"
      ]
     },
     "execution_count": 14,
     "metadata": {},
     "output_type": "execute_result"
    }
   ],
   "source": [
    "testTransformer().visit(tree)"
   ]
  },
  {
   "cell_type": "markdown",
   "metadata": {},
   "source": [
    "## test object sizes"
   ]
  },
  {
   "cell_type": "code",
   "execution_count": 7,
   "metadata": {},
   "outputs": [
    {
     "name": "stdout",
     "output_type": "stream",
     "text": [
      "sizes: i(int): 28, j(float): 24 a: 80, a[0][0]: 28, b: 80, b[0][0]: 28, c: 80, c[0][0]: 28, d: 88\n",
      "types: i(int): <class 'int'>, j(float): <class 'float'> a: <class 'list'>, a[0][0]: <class 'int'>, b: <class 'list'>, b[0][0]: <class 'int'>, c: <class 'list'>, c[0][0]: <class 'int'>, d: <class 'list'>\n",
      "lens: a: 3, a[0]: 3, b: 3, b[0]: 3, c: 3, c[0]: 3, d: 3\n"
     ]
    }
   ],
   "source": [
    "# from matmult.py\n",
    "a = [[1, 2, 3], [1, 2, 3], [1, 2, 3]]\n",
    "b = [[1, 2, 3], [1, 2, 3], [1, 2, 3]]\n",
    "c = [[0, 0, 0], [0, 0, 0], [0, 0, 0]]\n",
    "d = [9, 9, 9]\n",
    "\n",
    "i, j = int(0), float(0)\n",
    "\n",
    "print(f\"sizes: i(int): {sys.getsizeof(i)}, j(float): {sys.getsizeof(j)} a: {sys.getsizeof(a)}, a[0][0]: {sys.getsizeof(a[0][0])}, b: {sys.getsizeof(b)}, b[0][0]: {sys.getsizeof(b[0][0])}, c: {sys.getsizeof(c)}, c[0][0]: {sys.getsizeof(c[0][0])}, d: {sys.getsizeof(d)}\")\n",
    "print(f\"types: i(int): {type(i)}, j(float): {type(j)} a: {type(a)}, a[0][0]: {type(a[0][0])}, b: {type(b)}, b[0][0]: {type(b[0][0])}, c: {type(c)}, c[0][0]: {type(c[0][0])}, d: {type(d)}\")\n",
    "print(f\"lens: a: {len(a)}, a[0]: {len(a[0])}, b: {len(b)}, b[0]: {len(b[0])}, c: {len(c)}, c[0]: {len(c[0])}, d: {len(d)}\")"
   ]
  },
  {
   "cell_type": "markdown",
   "metadata": {},
   "source": [
    "## Test yaml dump tech config"
   ]
  },
  {
   "cell_type": "code",
   "execution_count": 2,
   "metadata": {},
   "outputs": [],
   "source": [
    "latency = {\n",
    "    7: {\n",
    "\t   \"And\": 1.75,\n",
    "\t   \"Or\": 1.789,\n",
    "\t   \"Add\": 16,\n",
    "\t   \"Sub\": 16.175,\n",
    "\t   \"Mult\": 56.24,\n",
    "\t   \"FloorDiv\": 43.5,\n",
    "\t   \"Mod\": 1.935,\n",
    "\t   \"LShift\": 0.027,\n",
    "\t   \"RShift\": 0.027,\n",
    "\t   \"BitOr\": 0.256,\n",
    "\t   \"BitXor\": 0.236,\n",
    "\t   \"BitAnd\": 0.24,\n",
    "\t   \"Eq\": 1.76,\n",
    "\t   \"NotEq\": 1.935,\n",
    "\t   \"Lt\": 1.935,\n",
    "\t   \"LtE\": 1.935,\n",
    "\t   \"Gt\": 2.615,\n",
    "\t   \"GtE\": 2.64,\n",
    "\t   \"USub\": 16.175,\n",
    "\t   \"UAdd\": 16,\n",
    "\t   \"IsNot\": 0.175,\n",
    "\t   \"Not\": 0.175,\n",
    "\t   \"Invert\": 0.175,\n",
    "\t   \"Regs\": 2\n",
    "    },\n",
    "    5: {\n",
    "\t   \"And\": 1.545,\n",
    "\t   \"Or\": 1.58,\n",
    "\t   \"Add\": 14.155,\n",
    "\t   \"Sub\": 14.31,\n",
    "\t   \"Mult\": 49.77,\n",
    "\t   \"FloorDiv\": 38.56,\n",
    "\t   \"Mod\": 1.71,\n",
    "\t   \"LShift\": 0.024,\n",
    "\t   \"RShift\": 0.024,\n",
    "\t   \"BitOr\": 0.225,\n",
    "\t   \"BitXor\": 0.208,\n",
    "\t   \"BitAnd\": 0.213,\n",
    "\t   \"Eq\": 1.555,\n",
    "\t   \"NotEq\": 1.71,\n",
    "\t   \"Lt\": 1.71,\n",
    "\t   \"LtE\": 1.71,\n",
    "\t   \"Gt\": 2.315,\n",
    "\t   \"GtE\": 2.335,\n",
    "\t   \"USub\": 14.31,\n",
    "\t   \"UAdd\": 14.155,\n",
    "\t   \"IsNot\": 0.155,\n",
    "\t   \"Not\": 0.155,\n",
    "\t   \"Invert\": 0.155,\n",
    "\t   \"Regs\": 2\n",
    "    },\n",
    "    3: {\n",
    "\t   \"And\": 1.395,\n",
    "\t   \"Or\": 1.425,\n",
    "\t   \"Add\": 12.755,\n",
    "\t   \"Sub\": 12.895,\n",
    "\t   \"Mult\": 44.835,\n",
    "\t   \"FloorDiv\": 34.741,\n",
    "\t   \"Mod\": 1.54,\n",
    "\t   \"LShift\": 0.214,\n",
    "\t   \"RShift\": 0.214,\n",
    "\t   \"BitOr\": 0.2,\n",
    "\t   \"BitXor\": 0.188,\n",
    "\t   \"BitAnd\": 0.192,\n",
    "\t   \"Eq\": 1.4,\n",
    "\t   \"NotEq\": 1.54,\n",
    "\t   \"Lt\": 1.54,\n",
    "\t   \"LtE\": 1.54,\n",
    "\t   \"Gt\": 2.085,\n",
    "\t   \"GtE\": 2.105,\n",
    "\t   \"USub\": 12.895,\n",
    "\t   \"UAdd\": 12.755,\n",
    "\t   \"IsNot\": 0.14,\n",
    "\t   \"Not\": 0.14,\n",
    "\t   \"Invert\": 0.14,\n",
    "\t   \"Regs\": 2\n",
    "    }\n",
    "}\n",
    "\n",
    "# in nW\n",
    "dynamic_power = {\n",
    "    7: { \n",
    "\t   \"And\": 81.809,\n",
    "\t   \"Or\": 77.035,\n",
    "\t   \"Add\": 49.728,\n",
    "\t   \"Sub\": 56.896,\n",
    "\t   \"Mult\": 9227.952,\n",
    "\t   \"FloorDiv\": 26128.576,\n",
    "\t   \"Mod\": 116.025,\n",
    "\t   \"LShift\": 78.144,\n",
    "\t   \"RShift\": 78.144,\n",
    "\t   \"BitOr\": 22.72,\n",
    "\t   \"BitXor\": 25.6,\n",
    "\t   \"BitAnd\": 24.128,\n",
    "\t   \"Eq\": 108.857,\n",
    "\t   \"NotEq\": 176.977,\n",
    "\t   \"Lt\": 170.539,\n",
    "\t   \"LtE\": 160.534,\n",
    "\t   \"Gt\": 162.316,\n",
    "\t   \"GtE\": 143.232,\n",
    "\t   \"USub\": 56.896,\n",
    "\t   \"UAdd\": 49.728,\n",
    "\t   \"IsNot\": 7.168,\n",
    "\t   \"Not\": 7.168,\n",
    "\t   \"Invert\": 7.168,\n",
    "\t   \"Regs\": 1\n",
    "    },\n",
    "    5: { \n",
    "\t   \"And\": 64.62911,\n",
    "\t   \"Or\": 60.85765,\n",
    "\t   \"Add\": 39.28512,\n",
    "\t   \"Sub\": 44.94784,\n",
    "\t   \"Mult\": 7290.08208,\n",
    "\t   \"FloorDiv\": 20641.57504,\n",
    "\t   \"Mod\": 91.65975,\n",
    "\t   \"LShift\": 61.73376,\n",
    "\t   \"RShift\": 61.73376,\n",
    "\t   \"BitOr\": 17.9488,\n",
    "\t   \"BitXor\": 20.224,\n",
    "\t   \"BitAnd\": 19.06112,\n",
    "\t   \"Eq\": 85.99703,\n",
    "\t   \"NotEq\": 139.81183,\n",
    "\t   \"Lt\": 134.72581,\n",
    "\t   \"LtE\": 126.82186,\n",
    "\t   \"Gt\": 128.22964,\n",
    "\t   \"GtE\": 113.15328,\n",
    "\t   \"USub\": 44.94784,\n",
    "\t   \"UAdd\": 39.28512,\n",
    "\t   \"IsNot\": 5.66272,\n",
    "\t   \"Not\": 5.66272,\n",
    "\t   \"Invert\": 5.66272,\n",
    "\t   \"Regs\": 1\n",
    "    },\n",
    "    3: { \n",
    "\t   \"And\": 47.1792503,\n",
    "\t   \"Or\": 44.4260845,\n",
    "\t   \"Add\": 28.6781376,\n",
    "\t   \"Sub\": 32.8119232,\n",
    "\t   \"Mult\": 5321.759918,\n",
    "\t   \"FloorDiv\": 15068.34978,\n",
    "\t   \"Mod\": 66.9116175,\n",
    "\t   \"LShift\": 45.0656448,\n",
    "\t   \"RShift\": 45.0656448,\n",
    "\t   \"BitOr\": 13.102624,\n",
    "\t   \"BitXor\": 14.76352,\n",
    "\t   \"BitAnd\": 13.9146176,\n",
    "\t   \"Eq\": 62.7778319,\n",
    "\t   \"NotEq\": 102.0626359,\n",
    "\t   \"Lt\": 98.3498413,\n",
    "\t   \"LtE\": 92.5799578,\n",
    "\t   \"Gt\": 93.6076372,\n",
    "\t   \"GtE\": 82.6018944,\n",
    "\t   \"USub\": 32.8119232,\n",
    "\t   \"UAdd\": 28.6781376,\n",
    "\t   \"IsNot\": 4.1337856,\n",
    "\t   \"Not\": 4.1337856,\n",
    "\t   \"Invert\": 4.1337856,\n",
    "\t   \"Regs\": 1\n",
    "    }\n",
    "}\n",
    "\n",
    "leakage_power = {\n",
    "\t7: { \n",
    "\t   \"And\": 4340,\n",
    "\t   \"Or\": 4340,\n",
    "\t   \"Add\": 2986.666667,\n",
    "\t   \"Sub\": 3413.333333,\n",
    "\t   \"Mult\": 538320,\n",
    "\t   \"FloorDiv\": 1422080,\n",
    "\t   \"Mod\": 3860,\n",
    "\t   \"LShift\": 4266.666667,\n",
    "\t   \"RShift\": 4266.666667,\n",
    "\t   \"BitOr\": 1280,\n",
    "\t   \"BitXor\": 1706.666667,\n",
    "\t   \"BitAnd\": 1280,\n",
    "\t   \"Eq\": 3433.333333,\n",
    "\t   \"NotEq\": 6046.666667,\n",
    "\t   \"Lt\": 6046.666667,\n",
    "\t   \"LtE\": 4600,\n",
    "\t   \"Gt\": 4600,\n",
    "\t   \"GtE\": 4693.333333,\n",
    "\t   \"USub\": 3413.333333,\n",
    "\t   \"UAdd\": 2986.666667,\n",
    "\t   \"IsNot\": 426.6666667,\n",
    "\t   \"Not\": 426.6666667,\n",
    "\t   \"Invert\": 426.6666667,\n",
    "\t   \"Regs\": 426.6666667\n",
    "    },\n",
    "    5: { \n",
    "\t   \"And\": 3428.6,\n",
    "\t   \"Or\": 3428.6,\n",
    "\t   \"Add\": 2359.466667,\n",
    "\t   \"Sub\": 2696.533333,\n",
    "\t   \"Mult\": 425272.8,\n",
    "\t   \"FloorDiv\": 1123443.2,\n",
    "\t   \"Mod\": 3049.4,\n",
    "\t   \"LShift\": 3370.666667,\n",
    "\t   \"RShift\": 3370.666667,\n",
    "\t   \"BitOr\": 1011.2,\n",
    "\t   \"BitXor\": 1348.266667,\n",
    "\t   \"BitAnd\": 1011.2,\n",
    "\t   \"Eq\": 2712.333333,\n",
    "\t   \"NotEq\": 4776.866667,\n",
    "\t   \"Lt\": 4776.866667,\n",
    "\t   \"LtE\": 3634,\n",
    "\t   \"Gt\": 3634,\n",
    "\t   \"GtE\": 3707.733333,\n",
    "\t   \"USub\": 2696.533333,\n",
    "\t   \"UAdd\": 2359.466667,\n",
    "\t   \"IsNot\": 337.0666667,\n",
    "\t   \"Not\": 337.0666667,\n",
    "\t   \"Invert\": 337.0666667,\n",
    "\t   \"Regs\": 1\n",
    "    },\n",
    "    3: { \n",
    "\t   \"And\": 2502.878,\n",
    "\t   \"Or\": 2502.878,\n",
    "\t   \"Add\": 1722.410667,\n",
    "\t   \"Sub\": 1968.469333,\n",
    "\t   \"Mult\": 310449.144,\n",
    "\t   \"FloorDiv\": 820113.536,\n",
    "\t   \"Mod\": 2226.062,\n",
    "\t   \"LShift\": 2460.586667,\n",
    "\t   \"RShift\": 2460.586667,\n",
    "\t   \"BitOr\": 738.176,\n",
    "\t   \"BitXor\": 984.2346667,\n",
    "\t   \"BitAnd\": 738.176,\n",
    "\t   \"Eq\": 1980.003333,\n",
    "\t   \"NotEq\": 3487.112667,\n",
    "\t   \"Lt\": 3487.112667,\n",
    "\t   \"LtE\": 2652.82,\n",
    "\t   \"Gt\": 2652.82,\n",
    "\t   \"GtE\": 2706.645333,\n",
    "\t   \"USub\": 1968.469333,\n",
    "\t   \"UAdd\": 1722.410667,\n",
    "\t   \"IsNot\": 246.0586667,\n",
    "\t   \"Not\": 246.0586667,\n",
    "\t   \"Invert\": 246.0586667,\n",
    "\t   \"Regs\": 1\n",
    "    }\n",
    "}\n",
    "\n",
    "# what is this in units of?\n",
    "area = {\n",
    "    7: { \n",
    "\t   \"And\": 459.3456,\n",
    "\t   \"Or\": 374.976,\n",
    "\t   \"Add\": 282.9312,\n",
    "\t   \"Sub\": 379.6992,\n",
    "\t   \"Mult\": 51264.3168,\n",
    "\t   \"FloorDiv\": 155840.7168,\n",
    "\t   \"Mod\": 400.248,\n",
    "\t   \"LShift\": 478.3104,\n",
    "\t   \"RShift\": 478.3104,\n",
    "\t   \"BitOr\": 110.592,\n",
    "\t   \"BitXor\": 1147.456,\n",
    "\t   \"BitAnd\": 135.4752,\n",
    "\t   \"Eq\": 303.48,\n",
    "\t   \"NotEq\": 606.8016,\n",
    "\t   \"Lt\": 923.11872,\n",
    "\t   \"LtE\": 950.62788,\n",
    "\t   \"Gt\": 953.48997,\n",
    "\t   \"GtE\": 831.07392,\n",
    "\t   \"USub\": 282.9312,\n",
    "\t   \"UAdd\": 379.6992,\n",
    "\t   \"IsNot\": 96.768,\n",
    "\t   \"Not\": 96.768,\n",
    "\t   \"Invert\": 96.768,\n",
    "\t   \"Regs\": 1\n",
    "    },\n",
    "    5: { \n",
    "\t   \"And\": 252.64008,\n",
    "\t   \"Or\": 206.2368,\n",
    "\t   \"Add\": 155.61216,\n",
    "\t   \"Sub\": 208.83456,\n",
    "\t   \"Mult\": 28195.37424,\n",
    "\t   \"FloorDiv\": 85712.39424,\n",
    "\t   \"Mod\": 220.1364,\n",
    "\t   \"LShift\": 263.07072,\n",
    "\t   \"RShift\": 263.07072,\n",
    "\t   \"BitOr\": 60.8256,\n",
    "\t   \"BitXor\": 81.1008,\n",
    "\t   \"BitAnd\": 74.51136,\n",
    "\t   \"Eq\": 166.914,\n",
    "\t   \"NotEq\": 333.74088,\n",
    "\t   \"Lt\": 507.715296,\n",
    "\t   \"LtE\": 522.845334,\n",
    "\t   \"Gt\": 524.4194835,\n",
    "\t   \"GtE\": 457.090656,\n",
    "\t   \"USub\": 155.61216,\n",
    "\t   \"UAdd\": 208.83456,\n",
    "\t   \"IsNot\": 53.2224,\n",
    "\t   \"Not\": 53.2224,\n",
    "\t   \"Invert\": 53.2224,\n",
    "\t   \"Regs\": 1\n",
    "    },\n",
    "    3: { \n",
    "\t   \"And\": 149.0576472,\n",
    "\t   \"Or\": 121.679712,\n",
    "\t   \"Add\": 91.8111744,\n",
    "\t   \"Sub\": 123.2123904,\n",
    "\t   \"Mult\": 16635.2708,\n",
    "\t   \"FloorDiv\": 50570.3126,\n",
    "\t   \"Mod\": 129.880476,\n",
    "\t   \"LShift\": 155.2117248,\n",
    "\t   \"RShift\": 155.2117248,\n",
    "\t   \"BitOr\": 35.887104,\n",
    "\t   \"BitXor\": 47.849472,\n",
    "\t   \"BitAnd\": 43.9617024,\n",
    "\t   \"Eq\": 98.47926,\n",
    "\t   \"NotEq\": 196.9071192,\n",
    "\t   \"Lt\": 299.5520246,\n",
    "\t   \"LtE\": 308.4787471,\n",
    "\t   \"Gt\": 309.4074953,\n",
    "\t   \"GtE\": 269.683487,\n",
    "\t   \"USub\": 91.8111744,\n",
    "\t   \"UAdd\": 123.2123904,\n",
    "\t   \"IsNot\": 31.401216,\n",
    "\t   \"Not\": 31.401216,\n",
    "\t   \"Invert\": 31.401216,\n",
    "\t   \"Regs\": 1\n",
    "    }\n",
    "}\n",
    "\n",
    "latency_scale = {\n",
    "    512: 1,\n",
    "    1024: 2,\n",
    "    2048: 3,\n",
    "    4096: 4,\n",
    "    8192: 5,\n",
    "    16384: 6,\n",
    "    32768: 7,\n",
    "    65536: 8,\n",
    "    131072: 9,\n",
    "    262144: 10,\n",
    "    524288: 11,\n",
    "    1048576: 12,\n",
    "    2097152: 13,\n",
    "    4194304: 14,\n",
    "    8388608: 15,\n",
    "    16777216: 16,\n",
    "    33554432: 17,\n",
    "    67108864: 18,\n",
    "    134217728: 19,\n",
    "    268435456: 20,\n",
    "    536870912: 21\n",
    "}\n",
    "\n",
    "power_scale = {\n",
    "    512: 1,\n",
    "    1024: 2,\n",
    "    2048: 3,\n",
    "    4096: 4,\n",
    "    8192: 5,\n",
    "    16384: 6,\n",
    "    32768: 7,\n",
    "    65536: 8,\n",
    "    131072: 9,\n",
    "    262144: 10,\n",
    "    524288: 11,\n",
    "    1048576: 12,\n",
    "    2097152: 13,\n",
    "    4194304: 14,\n",
    "    8388608: 15,\n",
    "    16777216: 16,\n",
    "    33554432: 17,\n",
    "    67108864: 18,\n",
    "    134217728: 19,\n",
    "    268435456: 20,\n",
    "    536870912: 21\n",
    "}\n",
    "\n",
    "mem_area_7_5 = { # queried by (cache_size, mem_layers, pitch)\n",
    "\t1: {\n",
    "\t\t1: {\n",
    "\t\t\t100: 8.26\n",
    "\t\t},\n",
    "\t\t2: {\n",
    "\t\t\t100: 21.38,\n",
    "\t\t\t10: 8.419, \n",
    "\t\t\t1: 5.373, \n",
    "\t\t\t0.1: 7.34\n",
    "\t\t}, \n",
    "\t\t4: {\n",
    "\t\t\t100: 23.02,\n",
    "\t\t\t10: 7.499,\n",
    "\t\t\t1: 4.025,\n",
    "\t\t\t0.1: 2.535\n",
    "\t\t}\n",
    "\t}, \n",
    "\t2: {\n",
    "\t\t1: {\n",
    "\t\t\t100: 20.83\n",
    "\t\t},\n",
    "\t\t2: {\n",
    "\t\t\t100: 27.952,\n",
    "\t\t\t10: 13.249,  \n",
    "\t\t\t1: 9.822, \n",
    "\t\t\t0.1: 8.061\n",
    "\t\t}, \n",
    "\t\t4: {\n",
    "\t\t\t100: 21.33,\n",
    "\t\t\t10: 9.657,\n",
    "\t\t\t1: 8.05,\n",
    "\t\t\t0.1: 7.334\n",
    "\t\t}\n",
    "\t}, \n",
    "\t4: {\n",
    "\t\t1: {\n",
    "\t\t\t100: 42.1\n",
    "\t\t},\n",
    "\t\t2: {\n",
    "\t\t\t100: 43.182,\n",
    "\t\t\t10: 26.661, \n",
    "\t\t\t1: 22.363, \n",
    "\t\t\t0.1: 25.8\n",
    "\t\t}, \n",
    "\t\t4: {\n",
    "\t\t\t100: 27.83,\n",
    "\t\t\t10: 14.089,\n",
    "\t\t\t1: 11.77,\n",
    "\t\t\t0.1: 25.796\n",
    "\t\t}\n",
    "\t}, \n",
    "\t8: {\n",
    "\t\t1: {\n",
    "\t\t\t100: 73.12\n",
    "\t\t},\n",
    "\t\t2: {\n",
    "\t\t\t100: 65.894,\n",
    "\t\t\t10: 43.287, \n",
    "\t\t\t1: 41.146, \n",
    "\t\t\t0.1: 39.63\n",
    "\t\t}, \n",
    "\t\t4: {\n",
    "\t\t\t100: 43,\n",
    "\t\t\t10: 28.191,\n",
    "\t\t\t1: 22.36,\n",
    "\t\t\t0.1: 25.796\n",
    "\t\t}\n",
    "\t}, \n",
    "\t16: {\n",
    "\t\t1: {\n",
    "\t\t\t100: 137.7\n",
    "\t\t},\n",
    "\t\t2: {\n",
    "\t\t\t100: 111.754,\n",
    "\t\t\t10: 75.741, \n",
    "\t\t\t1: 76.972, \n",
    "\t\t\t0.1: 74.62\n",
    "\t\t}, \n",
    "\t\t4: {\n",
    "\t\t\t100: 69.6,\n",
    "\t\t\t10: 43.72,\n",
    "\t\t\t1: 40.73,\n",
    "\t\t\t0.1: 39.219\n",
    "\t\t}\n",
    "\t}\n",
    "}\n",
    "\n",
    "mem_area_3 = {\n",
    "\t1: {\n",
    "\t\t1: {\n",
    "\t\t\t100: 0.34\n",
    "\t\t},\n",
    "\t\t2: {\n",
    "\t\t\t100: 0.878,\n",
    "\t\t\t10: 0.346, \n",
    "\t\t\t1: 0.221, \n",
    "\t\t\t0.1: 0.301\n",
    "\t\t}, \n",
    "\t\t4: {\n",
    "\t\t\t100: 0.946,\n",
    "\t\t\t10: 0.308,\n",
    "\t\t\t1: 0.165,\n",
    "\t\t\t0.1: 0.104\n",
    "\t\t}\n",
    "\t}, \n",
    "\t2: {\n",
    "\t\t1: {\n",
    "\t\t\t100: 0.856\n",
    "\t\t},\n",
    "\t\t2: {\n",
    "\t\t\t100: 1.15,\n",
    "\t\t\t10: 0.544,  \n",
    "\t\t\t1: 0.403, \n",
    "\t\t\t0.1: 0.331\n",
    "\t\t}, \n",
    "\t\t4: {\n",
    "\t\t\t100: 0.876,\n",
    "\t\t\t10: 0.397,\n",
    "\t\t\t1: 0.331,\n",
    "\t\t\t0.1: 0.301\n",
    "\t\t}\n",
    "\t}, \n",
    "\t4: {\n",
    "\t\t1: {\n",
    "\t\t\t100: 1.73\n",
    "\t\t},\n",
    "\t\t2: {\n",
    "\t\t\t100: 1.774,\n",
    "\t\t\t10: 1.095, \n",
    "\t\t\t1: 0.919, \n",
    "\t\t\t0.1: 1.06\n",
    "\t\t}, \n",
    "\t\t4: {\n",
    "\t\t\t100: 1.144,\n",
    "\t\t\t10: 0.579,\n",
    "\t\t\t1: 0.484,\n",
    "\t\t\t0.1: 0.38\n",
    "\t\t}\n",
    "\t}, \n",
    "\t8: {\n",
    "\t\t1: {\n",
    "\t\t\t100: 3.004\n",
    "\t\t},\n",
    "\t\t2: {\n",
    "\t\t\t100: 2.707,\n",
    "\t\t\t10: 1.779, \n",
    "\t\t\t1: 1.691, \n",
    "\t\t\t0.1: 1.628\n",
    "\t\t}, \n",
    "\t\t4: {\n",
    "\t\t\t100: 1.767,\n",
    "\t\t\t10: 1.159,\n",
    "\t\t\t1: 0.919,\n",
    "\t\t\t0.1: 1.06\n",
    "\t\t}\n",
    "\t}, \n",
    "\t16: {\n",
    "\t\t1: {\n",
    "\t\t\t100: 5.658\n",
    "\t\t},\n",
    "\t\t2: {\n",
    "\t\t\t100: 4.592,\n",
    "\t\t\t10: 3.112, \n",
    "\t\t\t1: 3.162, \n",
    "\t\t\t0.1: 3.066\n",
    "\t\t}, \n",
    "\t\t4: {\n",
    "\t\t\t100: 2.86,\n",
    "\t\t\t10: 1.796,\n",
    "\t\t\t1: 1.673,\n",
    "\t\t\t0.1: 1.611\n",
    "\t\t}\n",
    "\t}\n",
    "}\n",
    "\n",
    "mem_latency = { \n",
    "\t1: {\n",
    "\t\t1: {\n",
    "\t\t\t100: 21.325\n",
    "\t\t},\n",
    "\t\t2: {\n",
    "\t\t\t100: 5.125,\n",
    "\t\t\t10: 3.045, \n",
    "\t\t\t1: 14.445, \n",
    "\t\t\t0.1: 2.14\n",
    "\t\t}, \n",
    "\t\t4: {\n",
    "\t\t\t100: 4.625,\n",
    "\t\t\t10: 2.405,\n",
    "\t\t\t1: 1.895,\n",
    "\t\t\t0.1: 10.755\n",
    "\t\t}\n",
    "\t}, \n",
    "\t2: {\n",
    "\t\t1: {\n",
    "\t\t\t100: 19.51\n",
    "\t\t},\n",
    "\t\t2: {\n",
    "\t\t\t100: 6.44,\n",
    "\t\t\t10: 4.375, \n",
    "\t\t\t1: 21.35, \n",
    "\t\t\t0.1: 21.35\n",
    "\t\t}, \n",
    "\t\t4: {\n",
    "\t\t\t100: 5.185,\n",
    "\t\t\t10: 3.075,\n",
    "\t\t\t1: 2.38,\n",
    "\t\t\t0.1: 2.14\n",
    "\t\t}\n",
    "\t}, \n",
    "\t4: {\n",
    "\t\t1: {\n",
    "\t\t\t100: 7.54\n",
    "\t\t},\n",
    "\t\t2: {\n",
    "\t\t\t100: 8.745,\n",
    "\t\t\t10: 5.615, \n",
    "\t\t\t1: 4.8225, \n",
    "\t\t\t0.1: 4.8\n",
    "\t\t}, \n",
    "\t\t4: {\n",
    "\t\t\t100: 6.475,\n",
    "\t\t\t10: 4.285,\n",
    "\t\t\t1: 3.385,\n",
    "\t\t\t0.1: 21.35\n",
    "\t\t}\n",
    "\t}, \n",
    "\t8: {\n",
    "\t\t1: {\n",
    "\t\t\t100: 12.825\n",
    "\t\t},\n",
    "\t\t2: {\n",
    "\t\t\t100: 11.685,\n",
    "\t\t\t10: 8.35, \n",
    "\t\t\t1: 7.175, \n",
    "\t\t\t0.1: 6.98\n",
    "\t\t}, \n",
    "\t\t4: {\n",
    "\t\t\t100: 8.825,\n",
    "\t\t\t10: 5.59,\n",
    "\t\t\t1: 4.825,\n",
    "\t\t\t0.1: 4.825\n",
    "\t\t}\n",
    "\t}, \n",
    "\t16: {\n",
    "\t\t1: {\n",
    "\t\t\t100: 20.63\n",
    "\t\t},\n",
    "\t\t2: {\n",
    "\t\t\t100: 18.575,\n",
    "\t\t\t10: 13.56, \n",
    "\t\t\t1: 12.095, \n",
    "\t\t\t0.1: 11.85\n",
    "\t\t}, \n",
    "\t\t4: {\n",
    "\t\t\t100: 12.145,\n",
    "\t\t\t10: 8.36,\n",
    "\t\t\t1: 7.13,\n",
    "\t\t\t0.1: 6.935\n",
    "\t\t}\n",
    "\t}\n",
    "}\n",
    "\n",
    "# in nW\n",
    "mem_dynamic_power = {\n",
    "\t1: {\n",
    "\t\t1: {\n",
    "\t\t\t100: 0.003\n",
    "\t\t},\n",
    "\t\t2: {\n",
    "\t\t\t100: 0.132,\n",
    "\t\t\t10: 0.026, \n",
    "\t\t\t1: 0.004, \n",
    "\t\t\t0.1: 0.035\n",
    "\t\t}, \n",
    "\t\t4: {\n",
    "\t\t\t100: 1.914,\n",
    "\t\t\t10: 0.042,\n",
    "\t\t\t1: 0.031,\n",
    "\t\t\t0.1: 0.003\n",
    "\t\t}\n",
    "\t}, \n",
    "\t2: {\n",
    "\t\t1: {\n",
    "\t\t\t100: 0.007\n",
    "\t\t},\n",
    "\t\t2: {\n",
    "\t\t\t100: 0.109,\n",
    "\t\t\t10: 0.022, \n",
    "\t\t\t1: 0.007, \n",
    "\t\t\t0.1: 0.006\n",
    "\t\t}, \n",
    "\t\t4: {\n",
    "\t\t\t100: 0.925,\n",
    "\t\t\t10: 0.036,\n",
    "\t\t\t1: 0.033,\n",
    "\t\t\t0.1: 0.035\n",
    "\t\t}\n",
    "\t}, \n",
    "\t4: {\n",
    "\t\t1: {\n",
    "\t\t\t100: 0.022\n",
    "\t\t},\n",
    "\t\t2: {\n",
    "\t\t\t100: 0.086,\n",
    "\t\t\t10: 0.025, \n",
    "\t\t\t1: 0.025, \n",
    "\t\t\t0.1: 0.027\n",
    "\t\t}, \n",
    "\t\t4: {\n",
    "\t\t\t100: 1.333,\n",
    "\t\t\t10: 0.03,\n",
    "\t\t\t1: 0.028,\n",
    "\t\t\t0.1: 0.004\n",
    "\t\t}\n",
    "\t}, \n",
    "\t8: {\n",
    "\t\t1: {\n",
    "\t\t\t100: 0.017\n",
    "\t\t},\n",
    "\t\t2: {\n",
    "\t\t\t100: 0.07,\n",
    "\t\t\t10: 0.021, \n",
    "\t\t\t1: 0.023, \n",
    "\t\t\t0.1: 0.023\n",
    "\t\t}, \n",
    "\t\t4: {\n",
    "\t\t\t100: 1.069,\n",
    "\t\t\t10: 0.03,\n",
    "\t\t\t1: 0.023,\n",
    "\t\t\t0.1: 0.027\n",
    "\t\t}\n",
    "\t}, \n",
    "\t16: {\n",
    "\t\t1: {\n",
    "\t\t\t100: 0.014\n",
    "\t\t},\n",
    "\t\t2: {\n",
    "\t\t\t100: 0.047,\n",
    "\t\t\t10: 0.017, \n",
    "\t\t\t1: 0.019, \n",
    "\t\t\t0.1: 0.019\n",
    "\t\t}, \n",
    "\t\t4: {\n",
    "\t\t\t100: 0.786,\n",
    "\t\t\t10: 0.024,\n",
    "\t\t\t1: 0.024,\n",
    "\t\t\t0.1: 0.023\n",
    "\t\t}\n",
    "\t}\n",
    "}\n",
    "\n",
    "# in nW: table measurements were in mW so multiplying by 10^-6\n",
    "mem_leakage_power = {\n",
    "\t1: {\n",
    "\t\t1: {\n",
    "\t\t\t100: 84.488e-6\n",
    "\t\t},\n",
    "\t\t2: {\n",
    "\t\t\t100: 134.778e-6,\n",
    "\t\t\t10: 120.24e-6, \n",
    "\t\t\t1: 113.61e-6, \n",
    "\t\t\t0.1: 163.32e-6\n",
    "\t\t}, \n",
    "\t\t4: {\n",
    "\t\t\t100: 332e-6,\n",
    "\t\t\t10: 147.956e-6,\n",
    "\t\t\t1: 160.134e-6,\n",
    "\t\t\t0.1: 125.092e-6\n",
    "\t\t}\n",
    "\t}, \n",
    "\t2: {\n",
    "\t\t1: {\n",
    "\t\t\t100: 203.537e-6\n",
    "\t\t},\n",
    "\t\t2: {\n",
    "\t\t\t100: 253.749e-6,\n",
    "\t\t\t10: 240.276e-6, \n",
    "\t\t\t1: 201.01e-6, \n",
    "\t\t\t0.1: 167.29e-6\n",
    "\t\t}, \n",
    "\t\t4: {\n",
    "\t\t\t100: 367.021e-6,\n",
    "\t\t\t10: 239.929e-6,\n",
    "\t\t\t1: 297.911e-6,\n",
    "\t\t\t0.1: 326.641e-6\n",
    "\t\t}\n",
    "\t}, \n",
    "\t4: {\n",
    "\t\t1: {\n",
    "\t\t\t100: 430.711e-6\n",
    "\t\t},\n",
    "\t\t2: {\n",
    "\t\t\t100: 449.317e-6,\n",
    "\t\t\t10: 446.145e-6, \n",
    "\t\t\t1: 449.08e-6, \n",
    "\t\t\t0.1: 523.43e-6\n",
    "\t\t}, \n",
    "\t\t4: {\n",
    "\t\t\t100: 502.546e-6,\n",
    "\t\t\t10: 476.738e-6,\n",
    "\t\t\t1: 470.928e-6,\n",
    "\t\t\t0.1: 393.097e-6\n",
    "\t\t}\n",
    "\t}, \n",
    "\t8: {\n",
    "\t\t1: {\n",
    "\t\t\t100: 771.303e-6\n",
    "\t\t},\n",
    "\t\t2: {\n",
    "\t\t\t100: 797.864e-6,\n",
    "\t\t\t10: 830.644e-6, \n",
    "\t\t\t1: 872.39e-6, \n",
    "\t\t\t0.1: 872.39e-6\n",
    "\t\t}, \n",
    "\t\t4: {\n",
    "\t\t\t100: 889.741e-6,\n",
    "\t\t\t10: 872.388e-6,\n",
    "\t\t\t1: 898.161e-6,\n",
    "\t\t\t0.1: 1046.85e-6\n",
    "\t\t}\n",
    "\t}, \n",
    "\t16: {\n",
    "\t\t1: {\n",
    "\t\t\t100: 1496.1e-6\n",
    "\t\t},\n",
    "\t\t2: {\n",
    "\t\t\t100: 1626.42e-6,\n",
    "\t\t\t10: 1532.73e-6, \n",
    "\t\t\t1: 1621.4e-6, \n",
    "\t\t\t0.1: 1621.4e-6\n",
    "\t\t}, \n",
    "\t\t4: {\n",
    "\t\t\t100: 1688.8e-6,\n",
    "\t\t\t10: 1653.34e-6,\n",
    "\t\t\t1: 1728.534e-6,\n",
    "\t\t\t0.1: 1728.53e-6\n",
    "\t\t}\n",
    "\t}\n",
    "}\n"
   ]
  },
  {
   "cell_type": "code",
   "execution_count": 5,
   "metadata": {},
   "outputs": [],
   "source": [
    "tech_params = {'latency': latency, 'dynamic_power': dynamic_power, 'leakage_power': leakage_power, 'area': area, 'latency_scale': latency_scale, 'power_scale': power_scale, 'mem_area_7_5': mem_area_7_5, 'mem_area_3': mem_area_3, 'mem_latency': mem_latency, 'mem_dynamic_power': mem_dynamic_power, 'mem_leakage_power': mem_leakage_power}\n",
    "\n",
    "with open('tech_params.yaml', 'w+') as f:\n",
    "    yaml.dump(tech_params, f)"
   ]
  },
  {
   "cell_type": "code",
   "execution_count": 9,
   "metadata": {},
   "outputs": [],
   "source": [
    "tech_params = yaml.load(open('tech_params.yaml', 'r'), Loader=yaml.Loader)"
   ]
  },
  {
   "cell_type": "code",
   "execution_count": 12,
   "metadata": {},
   "outputs": [
    {
     "data": {
      "text/plain": [
       "dict_keys(['area', 'dynamic_power', 'latency', 'latency_scale', 'leakage_power', 'mem_area', 'mem_dynamic_power', 'mem_latency', 'mem_leakage_power', 'power_scale'])"
      ]
     },
     "execution_count": 12,
     "metadata": {},
     "output_type": "execute_result"
    }
   ],
   "source": [
    "tech_params.keys()"
   ]
  },
  {
   "cell_type": "code",
   "execution_count": 13,
   "metadata": {},
   "outputs": [
    {
     "data": {
      "text/plain": [
       "0.34"
      ]
     },
     "execution_count": 13,
     "metadata": {},
     "output_type": "execute_result"
    }
   ],
   "source": [
    "transistor_size = 3\n",
    "cache_size = 1\n",
    "mem_layers = 1\n",
    "pitch = 100\n",
    "tech_params['mem_area'][transistor_size][cache_size][mem_layers][pitch]"
   ]
  },
  {
   "cell_type": "code",
   "execution_count": 18,
   "metadata": {},
   "outputs": [
    {
     "data": {
      "text/plain": [
       "4.199999999999999"
      ]
     },
     "execution_count": 18,
     "metadata": {},
     "output_type": "execute_result"
    }
   ],
   "source": [
    "6 * 0.7"
   ]
  },
  {
   "cell_type": "code",
   "execution_count": 22,
   "metadata": {},
   "outputs": [
    {
     "data": {
      "text/plain": [
       "0.9306000000000001"
      ]
     },
     "execution_count": 22,
     "metadata": {},
     "output_type": "execute_result"
    }
   ],
   "source": [
    "0.55 *1e-3 * (174+108) * 6"
   ]
  },
  {
   "cell_type": "code",
   "execution_count": 24,
   "metadata": {},
   "outputs": [
    {
     "data": {
      "text/plain": [
       "2.0000000000000003e-10"
      ]
     },
     "execution_count": 24,
     "metadata": {},
     "output_type": "execute_result"
    }
   ],
   "source": [
    "1/5 * 10**-9"
   ]
  },
  {
   "cell_type": "markdown",
   "metadata": {},
   "source": [
    "## Aladdin comparison plotting"
   ]
  },
  {
   "cell_type": "code",
   "execution_count": 18,
   "metadata": {},
   "outputs": [],
   "source": [
    "mat_dim = [3, 4, 5, 6, 10]\n",
    "\n",
    "codesign = {'cycles': [300, 652, 1818, 3042, 17624], \n",
    "    'compute power': [1.1403980214667973, 1.2781481894323925, 0.9126971372724313, 0.9414409589790664, 0.7737057884570493], \n",
    "    'mem power': [84.488, 84.4880, 84.488, 84.4880, 84.4880],\n",
    "    'compute area': [9116.648899, 9116.648899, 9116.648899, 9116.648899, 9116.648899],\n",
    "    'mem area': [8260000.0, 8260000.0, 8260000.0, 8260000.0, 8260000.0]}\n",
    "\n",
    "aladdin = {'cycles': [201, 431, 793, 1317, 5633], \n",
    "    'compute power': [2.59966, 2.81148, 2.94683, 3.04085, 3.23906],\n",
    "    'mem power': [0.443374, 0.462407, 0.47349, 0.480716, 0.57795],\n",
    "    'compute area': [8277.04, 8277.04, 8277.04, 8277.04, 8277.04],\n",
    "    'mem area': [3369.65, 3369.65, 3369.65, 3369.65, 4359.79]}\n",
    "\n",
    "unrolled_codesign = {'cycles': [284, 628, 1770, 2982, 17480],\n",
    "    'compute power': [3.6999050835532397, 5.449859265396688, 5.06639314318531, 6.298272707157718, 8.959931382515787],\n",
    "    'mem power': [84.488, 84.4880, 84.488, 84.4880, 84.4880],\n",
    "    'compute area': [26591.249097, 35328.549196, 44065.849295, 52803.149394, 87752.34979],\n",
    "    'mem area': [8260000.0, 8260000.0, 8260000.0, 8260000.0, 8260000.0]}\n",
    "\n",
    "unrolled_aladdin = {'cycles': [129, 239, 393, 597, 2033],\n",
    "    'compute power': [3.90894, 4.87861, 5.70777, 6.43158, 8.58046],\n",
    "    'mem power': [0.59152, 0.690928, 0.774299, 0.845866, 1.23679],\n",
    "    'compute area': [9656.87, 10567.3, 11094.9, 11814, 13924.5],\n",
    "    'mem area': [3369.65, 3369.65, 3369.65, 3369.65, 4359.79]}\n",
    "\n",
    "# these two dicts haven't been properly filled in.\n",
    "unrolled_codesign_no_bias = {'cycles': [20, ],\n",
    "    'compute power': [20.740302007319997, ],\n",
    "    'mem power': [84.488, 84.4880, 84.488, 84.4880, 84.4880],\n",
    "    'compute area': [236286.451473,],\n",
    "    'mem area': [8260000.0, 8260000.0, 8260000.0, 8260000.0, 8260000.0]}\n",
    "\n",
    "unrolled_aladdin_no_bias = {'cycles': [],\n",
    "    'compute power': [],\n",
    "    'mem power': [],\n",
    "    'compute area': [],\n",
    "    'mem area': []}\n",
    "\n",
    "\n",
    "codesign_post_fix = {'cycles': [214, 471, 882, 1483, 6507], \n",
    "    'compute power': [1.623, 1.7456, 1.8192, 1.8686, 1.9697], \n",
    "    'mem power': [84.488, 84.4880, 84.488, 84.4880, 84.4880],\n",
    "    'compute area': [9116.648899, 9116.648899, 9116.648899, 9116.648899, 9116.648899],\n",
    "    'mem area': [8260000.0, 8260000.0, 8260000.0, 8260000.0, 8260000.0]}\n"
   ]
  },
  {
   "cell_type": "code",
   "execution_count": 20,
   "metadata": {},
   "outputs": [
    {
     "data": {
      "image/png": "[encoded data removed]",
      "text/plain": [
       "<Figure size 960x768 with 1 Axes>"
      ]
     },
     "metadata": {},
     "output_type": "display_data"
    }
   ],
   "source": [
    "with mpl.rc_context({'lines.linewidth' : 2.25,\n",
    "'lines.markersize' : 6,  \n",
    "'figure.figsize': (5,4),\n",
    "'figure.dpi': 192,\n",
    "# 'axes.titlepad': 8.0,\n",
    "'axes.linewidth' : 1.1,\n",
    "'legend.frameon': False,\n",
    "'legend.fontsize': 12,\n",
    "'xtick.major.width' : 1.1,\n",
    "'ytick.major.width' : 1.1,\n",
    "'axes.titlesize' : 20,\n",
    "'axes.labelsize' : 16,\n",
    "'lines.linewidth' : 3,\n",
    "'lines.markersize' : 6,\n",
    "'xtick.labelsize' : 16,\n",
    "'ytick.labelsize' : 16,}):\n",
    "    # cycles_diff = np.asarray(unrolled_codesign['cycles']) - 9*np.asarray(mat_dim)**3 - 5*np.asarray(mat_dim)**2\n",
    "    # print(cycles_diff)\n",
    "    plt.scatter(mat_dim, codesign_post_fix['cycles'], marker='+', label='codesign', c='b')\n",
    "    # plt.scatter(mat_dim, aladdin['cycles'], marker='.', label='aladdin - no unrolling', c='r', alpha = 0.5)\n",
    "    plt.scatter(mat_dim, aladdin['cycles'], marker='.', label='aladdin', c='r')\n",
    "    plt.xlabel('N')\n",
    "    plt.ylabel('Cycles')\n",
    "    # plt.yscale('log')\n",
    "    plt.legend()\n",
    "    plt.title(\"Mat Mult\")\n",
    "    plt.show()\n"
   ]
  },
  {
   "cell_type": "code",
   "execution_count": 22,
   "metadata": {},
   "outputs": [
    {
     "data": {
      "image/png": "[encoded data removed]",
      "text/plain": [
       "<Figure size 960x768 with 1 Axes>"
      ]
     },
     "metadata": {},
     "output_type": "display_data"
    }
   ],
   "source": [
    "with mpl.rc_context({'lines.linewidth' : 2.25,\n",
    "'lines.markersize' : 6,  \n",
    "'figure.figsize': (5,4),\n",
    "'figure.dpi': 192,\n",
    "# 'axes.titlepad': 8.0,\n",
    "'axes.linewidth' : 1.1,\n",
    "'legend.frameon': False,\n",
    "'legend.fontsize': 12,\n",
    "'xtick.major.width' : 1.1,\n",
    "'ytick.major.width' : 1.1,\n",
    "'axes.titlesize' : 20,\n",
    "'axes.labelsize' : 16,\n",
    "'lines.linewidth' : 3,\n",
    "'lines.markersize' : 6,\n",
    "'xtick.labelsize' : 16,\n",
    "'ytick.labelsize' : 16,}):\n",
    "    plt.scatter(mat_dim, codesign_post_fix['compute power'], marker='+', label='codesign - compute', c='b')\n",
    "    # plt.scatter(mat_dim, unrolled_codesign['mem power'], marker='^', label='codesign - mem', c='b', alpha = 0.5)\n",
    "\n",
    "    plt.scatter(mat_dim, aladdin['compute power'], marker='.', label='aladdin - compute', c='r')\n",
    "    # plt.scatter(mat_dim, unrolled_aladdin['mem power'], marker='^', label='aladdin - mem', c='r', alpha = 0.5)\n",
    "    plt.xlabel('N')\n",
    "    plt.ylim(0, 3.5)\n",
    "    plt.ylabel('Power (mW)')\n",
    "    # plt.yscale('log')\n",
    "    plt.legend()\n",
    "    plt.title(\"Mat Mult\")\n",
    "    plt.show()"
   ]
  },
  {
   "cell_type": "code",
   "execution_count": 86,
   "metadata": {},
   "outputs": [
    {
     "data": {
      "image/png": "[encoded data removed]",
      "text/plain": [
       "<Figure size 1200x900 with 1 Axes>"
      ]
     },
     "metadata": {},
     "output_type": "display_data"
    }
   ],
   "source": [
    "plt.scatter(mat_dim, unrolled_codesign['compute area'], marker='+', label='codesign - compute', c='b')\n",
    "plt.scatter(mat_dim, unrolled_codesign['mem area'], marker='^', label='codesign - mem', c='b', alpha =0.5)\n",
    "\n",
    "# total_area = np.array(unrolled_aladdin['compute area']) + np.array(unrolled_aladdin['mem area'])\n",
    "plt.scatter(mat_dim, unrolled_aladdin['compute area'], marker='.', label='aladdin - compute', c='r')\n",
    "plt.scatter(mat_dim, unrolled_aladdin['mem area'], marker='^', label='aladdin - mem', c='r', alpha=0.5)\n",
    "plt.xlabel('N')\n",
    "plt.ylabel(r'Area ($\\mu m^2$)')\n",
    "plt.yscale('log')\n",
    "plt.legend()\n",
    "plt.title(\"Mat Mult\")\n",
    "plt.show()"
   ]
  },
  {
   "cell_type": "code",
   "execution_count": null,
   "metadata": {},
   "outputs": [],
   "source": []
  },
  {
   "cell_type": "markdown",
   "metadata": {},
   "source": [
    "## Dict tests"
   ]
  },
  {
   "cell_type": "code",
   "execution_count": 2,
   "metadata": {},
   "outputs": [
    {
     "name": "stdout",
     "output_type": "stream",
     "text": [
      "c\n",
      "y\n",
      "c\n",
      "l\n",
      "e\n",
      "s\n",
      "a\n",
      "v\n",
      "g\n",
      " \n",
      "p\n",
      "o\n",
      "w\n",
      "e\n",
      "r\n"
     ]
    }
   ],
   "source": [
    "tmp = {'cycles': [338, 59072, 163045, 361536, 0], \n",
    "       'avg power': [39249587.42304815 * 1e-6, 158127090.63154665 * 1e-6, 138891920.7748982*1e-6, 123833633.04556464*1e-6, 0.0]\n",
    "}\n",
    "\n",
    "for state in tmp:\n",
    "    for value in state:\n",
    "        print(value)"
   ]
  },
  {
   "cell_type": "markdown",
   "metadata": {},
   "source": [
    "## NetworkX hardware representation"
   ]
  },
  {
   "cell_type": "code",
   "execution_count": 109,
   "metadata": {},
   "outputs": [
    {
     "name": "stdout",
     "output_type": "stream",
     "text": [
      "netlist: [('Add0', {'type': 'pe', 'function': 'Add', 'in_use': 0, 'idx': 0}), ('Regs0', {'type': 'memory', 'function': 'Regs', 'in_use': 0, 'idx': 0}), ('Regs1', {'type': 'memory', 'function': 'Regs', 'in_use': 0, 'idx': 1}), ('Regs2', {'type': 'memory', 'function': 'Regs', 'in_use': 0, 'idx': 2}), ('Mult0', {'type': 'pe', 'function': 'Mult', 'in_use': 0, 'idx': 0}), ('Eq0', {'type': 'pe', 'function': 'Eq', 'in_use': 0, 'idx': 0})]\n"
     ]
    }
   ],
   "source": [
    "config_name = \"aladdin_const\"\n",
    "hw = HardwareModel(cfg=config_name)"
   ]
  },
  {
   "cell_type": "code",
   "execution_count": 110,
   "metadata": {},
   "outputs": [
    {
     "data": {
      "text/plain": [
       "{'Add0': {'type': 'pe', 'function': 'Add', 'in_use': 0, 'idx': 0},\n",
       " 'Regs0': {'type': 'memory', 'function': 'Regs', 'in_use': 0, 'idx': 0},\n",
       " 'Regs1': {'type': 'memory', 'function': 'Regs', 'in_use': 0, 'idx': 1},\n",
       " 'Regs2': {'type': 'memory', 'function': 'Regs', 'in_use': 0, 'idx': 2},\n",
       " 'Mult0': {'type': 'pe', 'function': 'Mult', 'in_use': 0, 'idx': 0},\n",
       " 'Eq0': {'type': 'pe', 'function': 'Eq', 'in_use': 0, 'idx': 0}}"
      ]
     },
     "execution_count": 110,
     "metadata": {},
     "output_type": "execute_result"
    }
   ],
   "source": [
    "dict(hw.netlist.nodes.data())"
   ]
  },
  {
   "cell_type": "code",
   "execution_count": 111,
   "metadata": {},
   "outputs": [
    {
     "name": "stdout",
     "output_type": "stream",
     "text": [
      "Add0\n",
      "{'type': 'pe', 'function': 'Add', 'in_use': 0, 'idx': 0}\n"
     ]
    }
   ],
   "source": [
    "for k,v in dict(hardwareModel.get_nodes_with_func(hw.netlist, \"Add\")).items():\n",
    "    print(k)\n",
    "    print(v)"
   ]
  },
  {
   "cell_type": "code",
   "execution_count": 112,
   "metadata": {},
   "outputs": [],
   "source": [
    "hw_netlist = nx.DiGraph() # by using directed graphs to properly indicate inputs and outputs."
   ]
  },
  {
   "cell_type": "code",
   "execution_count": 113,
   "metadata": {},
   "outputs": [
    {
     "name": "stdout",
     "output_type": "stream",
     "text": [
      "{'Add': 1, 'Regs': 3, 'Mult': 1, 'Sub': 0, 'FloorDiv': 0, 'Gt': 0, 'And': 0, 'Or': 0, 'Mod': 0, 'LShift': 0, 'RShift': 0, 'BitOr': 0, 'BitXor': 0, 'BitAnd': 0, 'Eq': 1, 'NotEq': 0, 'Lt': 0, 'LtE': 0, 'GtE': 0, 'IsNot': 0, 'USub': 0, 'UAdd': 0, 'Not': 0, 'Invert': 0}\n"
     ]
    }
   ],
   "source": [
    "print(hw.hw_allocated)"
   ]
  },
  {
   "cell_type": "code",
   "execution_count": 116,
   "metadata": {},
   "outputs": [
    {
     "name": "stdout",
     "output_type": "stream",
     "text": [
      "Add0\n",
      "Regs0\n",
      "Regs1\n",
      "Regs2\n",
      "Mult0\n",
      "Eq0\n",
      "DiGraph with 6 nodes and 27 edges\n",
      "[('Add0', {'type': 'pe', 'function': 'Add', 'in_use': False, 'idx': 0}), ('Regs0', {'type': 'memory', 'function': 'Regs', 'in_use': False, 'idx': 0}), ('Regs1', {'type': 'memory', 'function': 'Regs', 'in_use': False, 'idx': 1}), ('Regs2', {'type': 'memory', 'function': 'Regs', 'in_use': False, 'idx': 2}), ('Mult0', {'type': 'pe', 'function': 'Mult', 'in_use': False, 'idx': 0}), ('Eq0', {'type': 'pe', 'function': 'Eq', 'in_use': False, 'idx': 0})]\n",
      "[('Add0', 'Regs0'), ('Add0', 'Regs1'), ('Add0', 'Regs2'), ('Add0', 'Add0'), ('Add0', 'Mult0'), ('Add0', 'Eq0'), ('Regs0', 'Add0'), ('Regs0', 'Mult0'), ('Regs0', 'Eq0'), ('Regs1', 'Add0'), ('Regs1', 'Mult0'), ('Regs1', 'Eq0'), ('Regs2', 'Add0'), ('Regs2', 'Mult0'), ('Regs2', 'Eq0'), ('Mult0', 'Regs0'), ('Mult0', 'Regs1'), ('Mult0', 'Regs2'), ('Mult0', 'Add0'), ('Mult0', 'Mult0'), ('Mult0', 'Eq0'), ('Eq0', 'Regs0'), ('Eq0', 'Regs1'), ('Eq0', 'Regs2'), ('Eq0', 'Add0'), ('Eq0', 'Mult0'), ('Eq0', 'Eq0')]\n"
     ]
    }
   ],
   "source": [
    "for k, v in hw.hw_allocated.items():\n",
    "    if k == \"Regs\":\n",
    "        type = \"memory\"\n",
    "    else:\n",
    "        type = \"pe\"\n",
    "    for i in range(v):\n",
    "        hw_netlist.add_node((k + str(i)), type=type, function=k, in_use=False, idx=i)\n",
    "    # print(f\"k: {k}, v: {v}\")\n",
    "for node in hw_netlist.nodes:\n",
    "    print(node)\n",
    "    if \"Regs\" in node:\n",
    "        continue\n",
    "    for node2 in hw_netlist.nodes:\n",
    "        if node2 == node:\n",
    "            continue\n",
    "        hw_netlist.add_edge(node2, node)\n",
    "        hw_netlist.add_edge(node, node2)\n",
    "print(hw_netlist)\n",
    "print(hw_netlist.nodes.data())\n",
    "print(list(hw_netlist.edges))"
   ]
  },
  {
   "cell_type": "code",
   "execution_count": 117,
   "metadata": {},
   "outputs": [
    {
     "data": {
      "image/png": "[encoded data removed]",
      "text/plain": [
       "<Figure size 330x250 with 1 Axes>"
      ]
     },
     "metadata": {},
     "output_type": "display_data"
    }
   ],
   "source": [
    "nx.draw(hw_netlist, with_labels=True)\n",
    "plt.show()"
   ]
  },
  {
   "cell_type": "code",
   "execution_count": 103,
   "metadata": {},
   "outputs": [
    {
     "name": "stdout",
     "output_type": "stream",
     "text": [
      "[('Add0', 'Regs0', {'cost': 'Regs'}), ('Add0', 'Regs1', {'cost': 'Regs'}), ('Add0', 'Regs2', {'cost': 'Regs'}), ('Regs0', 'Add0', {'cost': 'Add'}), ('Regs0', 'Mult0', {'cost': 'Mult'}), ('Regs0', 'Eq0', {'cost': 'Eq'}), ('Regs1', 'Add0', {'cost': 'Add'}), ('Regs1', 'Mult0', {'cost': 'Mult'}), ('Regs1', 'Eq0', {'cost': 'Eq'}), ('Regs2', 'Add0', {'cost': 'Add'}), ('Regs2', 'Mult0', {'cost': 'Mult'}), ('Regs2', 'Eq0', {'cost': 'Eq'}), ('Mult0', 'Regs0', {'cost': 'Regs'}), ('Mult0', 'Regs1', {'cost': 'Regs'}), ('Mult0', 'Regs2', {'cost': 'Regs'}), ('Eq0', 'Regs0', {'cost': 'Regs'}), ('Eq0', 'Regs1', {'cost': 'Regs'}), ('Eq0', 'Regs2', {'cost': 'Regs'})]\n",
      "[('Add0', 'Regs0', {'cost': 2}), ('Add0', 'Regs1', {'cost': 2}), ('Add0', 'Regs2', {'cost': 2}), ('Regs0', 'Add0', {'cost': 0.94}), ('Regs0', 'Mult0', {'cost': 0.98}), ('Regs0', 'Eq0', {'cost': 0.94}), ('Regs1', 'Add0', {'cost': 0.94}), ('Regs1', 'Mult0', {'cost': 0.98}), ('Regs1', 'Eq0', {'cost': 0.94}), ('Regs2', 'Add0', {'cost': 0.94}), ('Regs2', 'Mult0', {'cost': 0.98}), ('Regs2', 'Eq0', {'cost': 0.94}), ('Mult0', 'Regs0', {'cost': 2}), ('Mult0', 'Regs1', {'cost': 2}), ('Mult0', 'Regs2', {'cost': 2}), ('Eq0', 'Regs0', {'cost': 2}), ('Eq0', 'Regs1', {'cost': 2}), ('Eq0', 'Regs2', {'cost': 2})]\n"
     ]
    }
   ],
   "source": [
    "tech_params = yaml.load(open(\"tech_params.yaml\", \"r\"), Loader=yaml.Loader)\n",
    "\n",
    "latency = tech_params[\"latency\"][40]\n",
    "\n",
    "print(hw_netlist.edges.data())\n",
    "node_data = hw_netlist.nodes.data()\n",
    "for edge in hw_netlist.edges.data():\n",
    "    edge[2][\"cost\"] = latency[node_data[edge[1]][\"function\"]]\n",
    "\n",
    "print(hw_netlist.edges.data())"
   ]
  },
  {
   "cell_type": "code",
   "execution_count": 104,
   "metadata": {},
   "outputs": [
    {
     "ename": "NetworkXUnfeasible",
     "evalue": "Graph contains a cycle or graph changed during iteration",
     "output_type": "error",
     "traceback": [
      "\u001b[0;31m---------------------------------------------------------------------------\u001b[0m",
      "\u001b[0;31mNetworkXUnfeasible\u001b[0m                        Traceback (most recent call last)",
      "Cell \u001b[0;32mIn[104], line 1\u001b[0m\n\u001b[0;32m----> 1\u001b[0m nx\u001b[38;5;241m.\u001b[39mdag_longest_path(hw_netlist, weight\u001b[38;5;241m=\u001b[39m\u001b[38;5;124m'\u001b[39m\u001b[38;5;124mcost\u001b[39m\u001b[38;5;124m'\u001b[39m)\n",
      "File \u001b[0;32m~/anaconda3/envs/codesign/lib/python3.11/site-packages/networkx/utils/decorators.py:766\u001b[0m, in \u001b[0;36margmap.__call__.<locals>.func\u001b[0;34m(_argmap__wrapper, *args, **kwargs)\u001b[0m\n\u001b[1;32m    765\u001b[0m \u001b[38;5;28;01mdef\u001b[39;00m \u001b[38;5;21mfunc\u001b[39m(\u001b[38;5;241m*\u001b[39margs, __wrapper\u001b[38;5;241m=\u001b[39m\u001b[38;5;28;01mNone\u001b[39;00m, \u001b[38;5;241m*\u001b[39m\u001b[38;5;241m*\u001b[39mkwargs):\n\u001b[0;32m--> 766\u001b[0m     \u001b[38;5;28;01mreturn\u001b[39;00m argmap\u001b[38;5;241m.\u001b[39m_lazy_compile(__wrapper)(\u001b[38;5;241m*\u001b[39margs, \u001b[38;5;241m*\u001b[39m\u001b[38;5;241m*\u001b[39mkwargs)\n",
      "File \u001b[0;32m<class 'networkx.utils.decorators.argmap'> compilation 30:4\u001b[0m, in \u001b[0;36margmap_dag_longest_path_27\u001b[0;34m(G, weight, default_weight, topo_order)\u001b[0m\n\u001b[1;32m      2\u001b[0m \u001b[38;5;28;01mimport\u001b[39;00m \u001b[38;5;21;01mcollections\u001b[39;00m\n\u001b[1;32m      3\u001b[0m \u001b[38;5;28;01mimport\u001b[39;00m \u001b[38;5;21;01mgzip\u001b[39;00m\n\u001b[0;32m----> 4\u001b[0m \u001b[38;5;28;01mimport\u001b[39;00m \u001b[38;5;21;01minspect\u001b[39;00m\n\u001b[1;32m      5\u001b[0m \u001b[38;5;28;01mimport\u001b[39;00m \u001b[38;5;21;01mitertools\u001b[39;00m\n\u001b[1;32m      6\u001b[0m \u001b[38;5;28;01mimport\u001b[39;00m \u001b[38;5;21;01mre\u001b[39;00m\n",
      "File \u001b[0;32m~/anaconda3/envs/codesign/lib/python3.11/site-packages/networkx/algorithms/dag.py:1009\u001b[0m, in \u001b[0;36mdag_longest_path\u001b[0;34m(G, weight, default_weight, topo_order)\u001b[0m\n\u001b[1;32m   1006\u001b[0m     topo_order \u001b[38;5;241m=\u001b[39m nx\u001b[38;5;241m.\u001b[39mtopological_sort(G)\n\u001b[1;32m   1008\u001b[0m dist \u001b[38;5;241m=\u001b[39m {}  \u001b[38;5;66;03m# stores {v : (length, u)}\u001b[39;00m\n\u001b[0;32m-> 1009\u001b[0m \u001b[38;5;28;01mfor\u001b[39;00m v \u001b[38;5;129;01min\u001b[39;00m topo_order:\n\u001b[1;32m   1010\u001b[0m     us \u001b[38;5;241m=\u001b[39m [\n\u001b[1;32m   1011\u001b[0m         (\n\u001b[1;32m   1012\u001b[0m             dist[u][\u001b[38;5;241m0\u001b[39m]\n\u001b[0;32m   (...)\u001b[0m\n\u001b[1;32m   1020\u001b[0m         \u001b[38;5;28;01mfor\u001b[39;00m u, data \u001b[38;5;129;01min\u001b[39;00m G\u001b[38;5;241m.\u001b[39mpred[v]\u001b[38;5;241m.\u001b[39mitems()\n\u001b[1;32m   1021\u001b[0m     ]\n\u001b[1;32m   1023\u001b[0m     \u001b[38;5;66;03m# Use the best predecessor if there is one and its distance is\u001b[39;00m\n\u001b[1;32m   1024\u001b[0m     \u001b[38;5;66;03m# non-negative, otherwise terminate.\u001b[39;00m\n",
      "File \u001b[0;32m~/anaconda3/envs/codesign/lib/python3.11/site-packages/networkx/algorithms/dag.py:305\u001b[0m, in \u001b[0;36mtopological_sort\u001b[0;34m(G)\u001b[0m\n\u001b[1;32m    241\u001b[0m \u001b[38;5;28;01mdef\u001b[39;00m \u001b[38;5;21mtopological_sort\u001b[39m(G):\n\u001b[1;32m    242\u001b[0m \u001b[38;5;250m    \u001b[39m\u001b[38;5;124;03m\"\"\"Returns a generator of nodes in topologically sorted order.\u001b[39;00m\n\u001b[1;32m    243\u001b[0m \n\u001b[1;32m    244\u001b[0m \u001b[38;5;124;03m    A topological sort is a nonunique permutation of the nodes of a\u001b[39;00m\n\u001b[0;32m   (...)\u001b[0m\n\u001b[1;32m    303\u001b[0m \u001b[38;5;124;03m       *Introduction to Algorithms - A Creative Approach.* Addison-Wesley.\u001b[39;00m\n\u001b[1;32m    304\u001b[0m \u001b[38;5;124;03m    \"\"\"\u001b[39;00m\n\u001b[0;32m--> 305\u001b[0m     \u001b[38;5;28;01mfor\u001b[39;00m generation \u001b[38;5;129;01min\u001b[39;00m nx\u001b[38;5;241m.\u001b[39mtopological_generations(G):\n\u001b[1;32m    306\u001b[0m         \u001b[38;5;28;01myield from\u001b[39;00m generation\n",
      "File \u001b[0;32m~/anaconda3/envs/codesign/lib/python3.11/site-packages/networkx/algorithms/dag.py:236\u001b[0m, in \u001b[0;36mtopological_generations\u001b[0;34m(G)\u001b[0m\n\u001b[1;32m    233\u001b[0m     \u001b[38;5;28;01myield\u001b[39;00m this_generation\n\u001b[1;32m    235\u001b[0m \u001b[38;5;28;01mif\u001b[39;00m indegree_map:\n\u001b[0;32m--> 236\u001b[0m     \u001b[38;5;28;01mraise\u001b[39;00m nx\u001b[38;5;241m.\u001b[39mNetworkXUnfeasible(\n\u001b[1;32m    237\u001b[0m         \u001b[38;5;124m\"\u001b[39m\u001b[38;5;124mGraph contains a cycle or graph changed during iteration\u001b[39m\u001b[38;5;124m\"\u001b[39m\n\u001b[1;32m    238\u001b[0m     )\n",
      "\u001b[0;31mNetworkXUnfeasible\u001b[0m: Graph contains a cycle or graph changed during iteration"
     ]
    }
   ],
   "source": [
    "nx.dag_longest_path(hw_netlist, weight='cost')"
   ]
  },
  {
   "cell_type": "code",
   "execution_count": 90,
   "metadata": {},
   "outputs": [],
   "source": [
    "nx.write_gml(hw_netlist, f'architectures/{config_name}.gml')"
   ]
  },
  {
   "cell_type": "code",
   "execution_count": 105,
   "metadata": {},
   "outputs": [
    {
     "data": {
      "image/png": "[encoded data removed]",
      "text/plain": [
       "<Figure size 330x250 with 1 Axes>"
      ]
     },
     "metadata": {},
     "output_type": "display_data"
    }
   ],
   "source": [
    "test = nx.read_gml(f\"architectures/{config_name}.gml\")\n",
    "nx.draw(test, with_labels=True)\n",
    "plt.show()"
   ]
  },
  {
   "cell_type": "code",
   "execution_count": 106,
   "metadata": {},
   "outputs": [
    {
     "data": {
      "image/png": "[encoded data removed]",
      "text/plain": [
       "<Figure size 330x250 with 1 Axes>"
      ]
     },
     "metadata": {},
     "output_type": "display_data"
    }
   ],
   "source": [
    "test_graph = nx.path_graph(2)\n",
    "nx.draw(test_graph, with_labels=True)\n",
    "plt.show()"
   ]
  },
  {
   "cell_type": "code",
   "execution_count": 107,
   "metadata": {},
   "outputs": [
    {
     "data": {
      "image/png": "[encoded data removed]",
      "text/plain": [
       "<Figure size 330x250 with 1 Axes>"
      ]
     },
     "metadata": {},
     "output_type": "display_data"
    }
   ],
   "source": [
    "test_2 = test.copy()\n",
    "\n",
    "test_2.remove_node('Regs0')\n",
    "nx.draw(test, with_labels=True)\n",
    "plt.show()"
   ]
  },
  {
   "cell_type": "code",
   "execution_count": 108,
   "metadata": {},
   "outputs": [
    {
     "data": {
      "text/plain": [
       "False"
      ]
     },
     "execution_count": 108,
     "metadata": {},
     "output_type": "execute_result"
    }
   ],
   "source": [
    "matcher = nx.isomorphism.GraphMatcher(test_graph, test_2)\n",
    "matcher.subgraph_is_monomorphic()"
   ]
  },
  {
   "cell_type": "code",
   "execution_count": 21,
   "metadata": {},
   "outputs": [
    {
     "name": "stdout",
     "output_type": "stream",
     "text": [
      "[('Add0', {'type': 'pe', 'function': 'Add', 'in_use': 0, 'idx': 0}), ('Regs0', {'type': 'memory', 'function': 'Regs', 'in_use': 0, 'idx': 0}), ('Regs1', {'type': 'memory', 'function': 'Regs', 'in_use': 0, 'idx': 1}), ('Regs2', {'type': 'memory', 'function': 'Regs', 'in_use': 0, 'idx': 2}), ('Mult0', {'type': 'pe', 'function': 'Mult', 'in_use': 0, 'idx': 0}), ('Eq0', {'type': 'pe', 'function': 'Eq', 'in_use': 0, 'idx': 0})]\n"
     ]
    }
   ],
   "source": [
    "node_data = test.nodes.data()\n",
    "print(node_data)"
   ]
  },
  {
   "cell_type": "code",
   "execution_count": 61,
   "metadata": {},
   "outputs": [
    {
     "name": "stdout",
     "output_type": "stream",
     "text": [
      "k: Add0, v: {'type': 'pe', 'function': 'Add', 'in_use': True}\n",
      "k: Add1, v: {'type': 'pe', 'function': 'Add', 'in_use': True}\n",
      "k: Add2, v: {'type': 'pe', 'function': 'Add', 'in_use': True}\n"
     ]
    }
   ],
   "source": [
    "for k, v in dict(node_data).items():\n",
    "    if v['function'] == 'Add':\n",
    "        print(f\"k: {k}, v: {v}\")\n",
    "        v['in_use'] = True"
   ]
  },
  {
   "cell_type": "code",
   "execution_count": 62,
   "metadata": {},
   "outputs": [],
   "source": [
    "test.nodes['Add1']['type'] = 'test'"
   ]
  },
  {
   "cell_type": "code",
   "execution_count": 64,
   "metadata": {},
   "outputs": [],
   "source": [
    "for k, v in dict(node_data).items():\n",
    "    v[\"in_use\"] = False"
   ]
  },
  {
   "cell_type": "code",
   "execution_count": 63,
   "metadata": {},
   "outputs": [
    {
     "name": "stdout",
     "output_type": "stream",
     "text": [
      "k: Add0, v: {'type': 'pe', 'function': 'Add', 'in_use': True}\n",
      "k: Add1, v: {'type': 'test', 'function': 'Add', 'in_use': True}\n",
      "k: Add2, v: {'type': 'pe', 'function': 'Add', 'in_use': True}\n",
      "k: Regs0, v: {'type': 'memory', 'function': 'Regs', 'in_use': False}\n",
      "k: Regs1, v: {'type': 'memory', 'function': 'Regs', 'in_use': False}\n",
      "k: Regs2, v: {'type': 'memory', 'function': 'Regs', 'in_use': False}\n",
      "k: Regs3, v: {'type': 'memory', 'function': 'Regs', 'in_use': False}\n",
      "k: Regs4, v: {'type': 'memory', 'function': 'Regs', 'in_use': False}\n",
      "k: Regs5, v: {'type': 'memory', 'function': 'Regs', 'in_use': False}\n",
      "k: Regs6, v: {'type': 'memory', 'function': 'Regs', 'in_use': False}\n",
      "k: Regs7, v: {'type': 'memory', 'function': 'Regs', 'in_use': False}\n",
      "k: Regs8, v: {'type': 'memory', 'function': 'Regs', 'in_use': False}\n",
      "k: Mult0, v: {'type': 'pe', 'function': 'Mult', 'in_use': False}\n",
      "k: Mult1, v: {'type': 'pe', 'function': 'Mult', 'in_use': False}\n",
      "k: Mult2, v: {'type': 'pe', 'function': 'Mult', 'in_use': False}\n",
      "k: Eq0, v: {'type': 'pe', 'function': 'Eq', 'in_use': False}\n"
     ]
    }
   ],
   "source": [
    "for k, v in dict(node_data).items():\n",
    "        print(f\"k: {k}, v: {v}\")"
   ]
  },
  {
   "cell_type": "code",
   "execution_count": null,
   "metadata": {},
   "outputs": [],
   "source": []
  }
 ],
 "metadata": {
  "kernelspec": {
   "display_name": "codesign",
   "language": "python",
   "name": "python3"
  },
  "language_info": {
   "codemirror_mode": {
    "name": "ipython",
    "version": 3
   },
   "file_extension": ".py",
   "mimetype": "text/x-python",
   "name": "python",
   "nbconvert_exporter": "python",
   "pygments_lexer": "ipython3",
   "version": "3.11.7"
  },
  "orig_nbformat": 4
 },
 "nbformat": 4,
 "nbformat_minor": 2
}
