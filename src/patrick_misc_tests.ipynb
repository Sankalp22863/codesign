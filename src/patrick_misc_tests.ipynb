{
 "cells": [
  {
   "cell_type": "code",
   "execution_count": null,
   "metadata": {},
   "outputs": [],
   "source": [
    "import pyomo.environ as pyo\n",
    "from pyomo.opt import SolverFactory\n"
   ]
  },
  {
   "cell_type": "code",
   "execution_count": null,
   "metadata": {},
   "outputs": [],
   "source": [
    "model = pyo.ConcreteModel()\n",
    "model.nVars = pyo.Param(initialize=4)\n",
    "model.N = pyo.RangeSet(model.nVars)\n",
    "model.x = pyo.Var(model.N, within=pyo.Binary)\n",
    "model.obj = pyo.Objective(expr=pyo.summation(model.x))\n",
    "model.cuts = pyo.ConstraintList()\n",
    "opt = SolverFactory(\"glpk\")\n",
    "opt.solve(model)\n",
    "\n",
    "# Iterate, adding a cut to exclude the previously found solution\n",
    "for i in range(5):\n",
    "    expr = 0\n",
    "    for j in model.x:\n",
    "        if pyo.value(model.x[j]) < 0.5:\n",
    "            expr += model.x[j]\n",
    "        else:\n",
    "            expr += 1 - model.x[j]\n",
    "    model.cuts.add(expr >= 1)\n",
    "    results = opt.solve(model)\n",
    "    print(\"\\n===== iteration\", i)\n",
    "    model.display()"
   ]
  }
 ],
 "metadata": {
  "language_info": {
   "name": "python"
  }
 },
 "nbformat": 4,
 "nbformat_minor": 2
}
