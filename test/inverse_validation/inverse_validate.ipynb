{
 "cells": [
  {
   "cell_type": "code",
   "execution_count": 5,
   "metadata": {},
   "outputs": [
    {
     "name": "stdout",
     "output_type": "stream",
     "text": [
      "/\n",
      "/\n"
     ]
    }
   ],
   "source": [
    "import argparse\n",
    "import configparser as cp\n",
    "import logging\n",
    "import os\n",
    "import sys\n",
    "import matplotlib.pyplot as plt\n",
    "import numpy as np\n",
    "    \n",
    "logger = logging.getLogger(\"inverse validation\")\n",
    "\n",
    "%cd ../..\n",
    "\n",
    "# Now `current_directory` should reflect the new working directory\n",
    "current_directory = os.getcwd()\n",
    "print(current_directory)\n",
    "\n",
    "savedir = current_directory + \"src/inverse_validation/inverse_val_log_dir\"\n",
    "arch_cfg = \"mm_test\"\n",
    "benchmark = \"matmult.py\"\n",
    "\n",
    "# Add the parent directory to sys.path\n",
    "sys.path.insert(0, current_directory)\n",
    "\n",
    "# Now you can safely import modules that rely on the correct working directory\n",
    "from src import coefficients\n",
    "from src import symbolic_simulate\n",
    "from src import hardwareModel\n",
    "from src import hw_symbols\n",
    "from src import optimize\n",
    "from src import sim_util\n",
    "from src import architecture_search\n",
    "\n",
    "args = None\n",
    "\n",
    "tech_nodes = [7, 5, 3]\n",
    "initial_tech_params = {}\n",
    "final_tech_params = {}\n",
    "params_exclusion_list = []"
   ]
  },
  {
   "cell_type": "code",
   "execution_count": 6,
   "metadata": {},
   "outputs": [],
   "source": [
    "def parse_output(f):\n",
    "    # mostly copied from codesign.py\n",
    "    tech_params = {}\n",
    "    lines = f.readlines()\n",
    "    mapping = {}\n",
    "    i = 0\n",
    "    while lines[i][0] != \"x\":\n",
    "        i += 1\n",
    "    while lines[i][0] == \"x\":\n",
    "        mapping[lines[i][lines[i].find(\"[\") + 1 : lines[i].find(\"]\")]] = (\n",
    "            hw_symbols.symbol_table[lines[i].split(\" \")[-1][:-1]]\n",
    "        )\n",
    "        i += 1\n",
    "    while i < len(lines) and lines[i].find(\"x\") != 4:\n",
    "        i += 1\n",
    "    i += 2\n",
    "    for _ in range(len(mapping)):\n",
    "        key = lines[i].split(\":\")[0].lstrip().rstrip()\n",
    "        value = float(lines[i].split(\":\")[2][1:-1])\n",
    "        tech_params[mapping[key]] = value  # just know that self.tech_params contains all dat\n",
    "        i += 1\n",
    "    return tech_params"
   ]
  },
  {
   "cell_type": "code",
   "execution_count": 7,
   "metadata": {},
   "outputs": [],
   "source": [
    "def plot_diff(tech_node_pair):\n",
    "    # use final tech params to determine params to plot because not every tech param appears in edp equation\n",
    "    tech_node_0_keys = final_tech_params[tech_node_pair[0]].keys()\n",
    "    params_to_plot = [tech_param for tech_param in tech_node_0_keys if tech_param not in params_exclusion_list]\n",
    "\n",
    "    tech_node_0_vals = [final_tech_params[tech_node_pair[0]][tech_param] for tech_param in params_to_plot]\n",
    "    tech_node_1_vals = [initial_tech_params[tech_node_pair[1]][tech_param] for tech_param in params_to_plot]\n",
    "\n",
    "    # ratio of optimized params of higher tech node to initial params of lower tech node\n",
    "    ratios = [tech_node_0_vals[i] / tech_node_1_vals[i] for i in range(len(tech_node_1_vals))]\n",
    "    i = 0\n",
    "    while (i < len(params_to_plot)):\n",
    "        num_params_on_fig = min(5, len(params_to_plot)-i)\n",
    "        X_axis = np.arange(num_params_on_fig)\n",
    "        plt.bar(X_axis, ratios[i:i+num_params_on_fig])\n",
    "        plt.xticks(X_axis, params_to_plot[i:i+num_params_on_fig])\n",
    "        plt.xlabel(\"tech params\")\n",
    "        plt.ylabel(\"tech param ratios\")\n",
    "        plt.title(f\"Ratio of optimized tech params for {tech_node_pair[0]} nm and initial tech params for {tech_node_pair[1]} nm\")\n",
    "        plt.savefig(f\"src/inverse_validation/figs/{tech_node_pair[0]}_{tech_node_pair[1]}_compare_{i/5}.png\")\n",
    "        plt.close()\n",
    "        i += 5"
   ]
  },
  {
   "cell_type": "code",
   "execution_count": 8,
   "metadata": {},
   "outputs": [],
   "source": [
    "def run_initial():\n",
    "    edps = []\n",
    "    hws = {}\n",
    "    dfgs = {}\n",
    "    for tech_node in tech_nodes:\n",
    "        # initialize hw model, override architecture config to have current tech node\n",
    "        logger.info(\n",
    "            f\"Setting up architecture search; benchmark: {benchmark}, config: {arch_cfg}\"\n",
    "        )\n",
    "        (\n",
    "            simulator,\n",
    "            hw,\n",
    "            computation_dfg,\n",
    "        ) = architecture_search.setup_arch_search(benchmark, arch_cfg, True, tech_node)\n",
    "        hw.init_memory(\n",
    "            sim_util.find_nearest_power_2(simulator.memory_needed),\n",
    "            sim_util.find_nearest_power_2(simulator.nvm_memory_needed),\n",
    "        )\n",
    "        scheduled_dfg = simulator.schedule(computation_dfg, hw)\n",
    "        hardwareModel.un_allocate_all_in_use_elements(hw.netlist)\n",
    "        simulator.simulate(scheduled_dfg, hw)\n",
    "        simulator.calculate_edp()\n",
    "        logger.warning(f\"edp of simulation running on {tech_node} nm tech node: {simulator.edp} E-18 Js\")\n",
    "        \n",
    "        rcs = hw.get_optimization_params_from_tech_params()\n",
    "        initial_tech_params[tech_node] = sim_util.generate_init_params_from_rcs_as_symbols(rcs)\n",
    "        \n",
    "        edps.append(simulator.edp)\n",
    "        hws[tech_node] = hw\n",
    "        dfgs[tech_node] = scheduled_dfg\n",
    "    return edps, hws, dfgs"
   ]
  },
  {
   "cell_type": "code",
   "execution_count": 9,
   "metadata": {},
   "outputs": [],
   "source": [
    "def run_pairwise(tech_node_pair, improvement, hws, dfgs):\n",
    "    logger.warning(f\"tech node pair {tech_node_pair}, asking inverse pass for {improvement} edp improvement\")\n",
    "    symbolic_sim = symbolic_simulate.SymbolicSimulator()\n",
    "    symbolic_sim.simulator_prep(benchmark, hws[tech_node_pair[0]].latency)\n",
    "    coefficients.create_and_save_coefficients([hws[tech_node_pair[0]].transistor_size])\n",
    "    hardwareModel.un_allocate_all_in_use_elements(hws[tech_node_pair[0]].netlist)\n",
    "\n",
    "    symbolic_sim.simulate(dfgs[tech_node_pair[0]], hws[tech_node_pair[0]])\n",
    "    symbolic_sim.calculate_edp(hws[tech_node_pair[0]])\n",
    "\n",
    "    stdout = sys.stdout\n",
    "    with open(f\"{savedir}/ipopt_out_{tech_node_pair[0]}.txt\", \"w\") as sys.stdout:\n",
    "        optimize.optimize(initial_tech_params[tech_node_pair[0]], symbolic_sim.edp, \"ipopt\", improvement)\n",
    "    sys.stdout = stdout\n",
    "    f = open(f\"{savedir}/ipopt_out_{tech_node_pair[0]}.txt\", \"r\")\n",
    "    final_tech_params[tech_node_pair[0]] = parse_output(f)\n",
    "    logger.warning(f\"final tech params for {tech_node_pair[0]} nm: {final_tech_params[tech_node_pair[0]]}\")\n",
    "    logger.warning(f\"initial tech params for {tech_node_pair[1]} nm: {initial_tech_params[tech_node_pair[1]]}\")"
   ]
  },
  {
   "cell_type": "code",
   "execution_count": 10,
   "metadata": {},
   "outputs": [
    {
     "ename": "AttributeError",
     "evalue": "'NoneType' object has no attribute 'benchmark'",
     "output_type": "error",
     "traceback": [
      "\u001b[0;31m---------------------------------------------------------------------------\u001b[0m",
      "\u001b[0;31mAttributeError\u001b[0m                            Traceback (most recent call last)",
      "Cell \u001b[0;32mIn[10], line 1\u001b[0m\n\u001b[0;32m----> 1\u001b[0m edps, hws, dfgs \u001b[38;5;241m=\u001b[39m \u001b[43mrun_initial\u001b[49m\u001b[43m(\u001b[49m\u001b[43m)\u001b[49m\n",
      "Cell \u001b[0;32mIn[8], line 8\u001b[0m, in \u001b[0;36mrun_initial\u001b[0;34m()\u001b[0m\n\u001b[1;32m      4\u001b[0m dfgs \u001b[38;5;241m=\u001b[39m {}\n\u001b[1;32m      5\u001b[0m \u001b[38;5;28;01mfor\u001b[39;00m tech_node \u001b[38;5;129;01min\u001b[39;00m tech_nodes:\n\u001b[1;32m      6\u001b[0m     \u001b[38;5;66;03m# initialize hw model, override architecture config to have current tech node\u001b[39;00m\n\u001b[1;32m      7\u001b[0m     logger\u001b[38;5;241m.\u001b[39minfo(\n\u001b[0;32m----> 8\u001b[0m         \u001b[38;5;124mf\u001b[39m\u001b[38;5;124m\"\u001b[39m\u001b[38;5;124mSetting up architecture search; benchmark: \u001b[39m\u001b[38;5;132;01m{\u001b[39;00m\u001b[43margs\u001b[49m\u001b[38;5;241;43m.\u001b[39;49m\u001b[43mbenchmark\u001b[49m\u001b[38;5;132;01m}\u001b[39;00m\u001b[38;5;124m, config: \u001b[39m\u001b[38;5;132;01m{\u001b[39;00margs\u001b[38;5;241m.\u001b[39marchitecture_config\u001b[38;5;132;01m}\u001b[39;00m\u001b[38;5;124m\"\u001b[39m\n\u001b[1;32m      9\u001b[0m     )\n\u001b[1;32m     10\u001b[0m     (\n\u001b[1;32m     11\u001b[0m         simulator,\n\u001b[1;32m     12\u001b[0m         hw,\n\u001b[1;32m     13\u001b[0m         computation_dfg,\n\u001b[1;32m     14\u001b[0m     ) \u001b[38;5;241m=\u001b[39m architecture_search\u001b[38;5;241m.\u001b[39msetup_arch_search(args\u001b[38;5;241m.\u001b[39mbenchmark, args\u001b[38;5;241m.\u001b[39marchitecture_config, \u001b[38;5;28;01mTrue\u001b[39;00m, tech_node)\n\u001b[1;32m     15\u001b[0m     hw\u001b[38;5;241m.\u001b[39minit_memory(\n\u001b[1;32m     16\u001b[0m         sim_util\u001b[38;5;241m.\u001b[39mfind_nearest_power_2(simulator\u001b[38;5;241m.\u001b[39mmemory_needed),\n\u001b[1;32m     17\u001b[0m         sim_util\u001b[38;5;241m.\u001b[39mfind_nearest_power_2(simulator\u001b[38;5;241m.\u001b[39mnvm_memory_needed),\n\u001b[1;32m     18\u001b[0m     )\n",
      "\u001b[0;31mAttributeError\u001b[0m: 'NoneType' object has no attribute 'benchmark'"
     ]
    }
   ],
   "source": [
    "edps, hws, dfgs = run_initial()"
   ]
  },
  {
   "cell_type": "code",
   "execution_count": null,
   "metadata": {},
   "outputs": [],
   "source": [
    "for i in range(0, len(tech_nodes)-1):\n",
    "    improvement = edps[i]/edps[i+1]\n",
    "    run_pairwise(tech_nodes[i:i+2], improvement, hws, dfgs)"
   ]
  },
  {
   "cell_type": "code",
   "execution_count": null,
   "metadata": {},
   "outputs": [],
   "source": [
    "for i in range(0, len(tech_nodes)-1):\n",
    "    plot_diff(tech_nodes[i:i+2])"
   ]
  }
 ],
 "metadata": {
  "kernelspec": {
   "display_name": "Python 3",
   "language": "python",
   "name": "python3"
  },
  "language_info": {
   "codemirror_mode": {
    "name": "ipython",
    "version": 3
   },
   "file_extension": ".py",
   "mimetype": "text/x-python",
   "name": "python",
   "nbconvert_exporter": "python",
   "pygments_lexer": "ipython3",
   "version": "3.10.13"
  }
 },
 "nbformat": 4,
 "nbformat_minor": 2
}
